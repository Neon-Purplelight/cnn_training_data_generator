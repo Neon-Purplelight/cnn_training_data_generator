{
  "cells": [
    {
      "cell_type": "markdown",
      "metadata": {
        "colab_type": "text",
        "id": "view-in-github"
      },
      "source": [
        "<a href=\"https://colab.research.google.com/github/Neon-Purplelight/cnn_training_data_generator/blob/master/slim_base_version.ipynb\" target=\"_parent\"><img src=\"https://colab.research.google.com/assets/colab-badge.svg\" alt=\"Open In Colab\"/></a>"
      ]
    },
    {
      "cell_type": "markdown",
      "metadata": {
        "id": "jsPgZka8xXpV"
      },
      "source": [
        "**Dataset preparation:**\n",
        "- Provide training data in ZIP format\n",
        "- Create directories for training, validation and test data and load dataset into corresponding directories\n",
        "\n",
        "---\n",
        "\n",
        "\n"
      ]
    },
    {
      "cell_type": "markdown",
      "metadata": {
        "id": "rm77EnEH_j9d"
      },
      "source": [
        "Loading the required libraries"
      ]
    },
    {
      "cell_type": "code",
      "execution_count": null,
      "metadata": {
        "colab": {
          "base_uri": "https://localhost:8080/"
        },
        "id": "aQnoc3FkhJc3",
        "outputId": "b19cbb0e-0053-43c4-ba82-a2a3aa049ca2"
      },
      "outputs": [
        {
          "data": {
            "text/plain": [
              "108"
            ]
          },
          "execution_count": 1,
          "metadata": {},
          "output_type": "execute_result"
        }
      ],
      "source": [
        "import os\n",
        "import sys\n",
        "import shutil\n",
        "import zipfile\n",
        "import random\n",
        "import gc\n",
        "\n",
        "gc.collect()"
      ]
    },
    {
      "cell_type": "markdown",
      "metadata": {
        "id": "qdqLVfEhAQ4g"
      },
      "source": [
        "Creation of variables for the required directories"
      ]
    },
    {
      "cell_type": "code",
      "execution_count": 2,
      "metadata": {
        "colab": {
          "base_uri": "https://localhost:8080/"
        },
        "id": "POTE7mIKuvet",
        "outputId": "548b99cc-9f46-4162-e822-ccc6733f15f3"
      },
      "outputs": [
        {
          "name": "stdout",
          "output_type": "stream",
          "text": [
            "This script is located in:  /content\n"
          ]
        }
      ],
      "source": [
        "SCRIPT_DIR = os.getcwd()\n",
        "print('This script is located in: ', SCRIPT_DIR)\n",
        "\n",
        "# dataset top level\n",
        "DATASET_DIR = os.path.join(SCRIPT_DIR, 'dataset')\n",
        "\n",
        "# train, validation and test folders\n",
        "TRAIN_DIR = os.path.join(DATASET_DIR, 'train')\n",
        "VALID_DIR = os.path.join(DATASET_DIR, 'valid')\n",
        "TEST_DIR = os.path.join(DATASET_DIR, 'test')\n",
        "\n",
        "# class folders\n",
        "TRAIN_STREET_DIR = os.path.join(TRAIN_DIR, 'street')\n",
        "TRAIN_NONE_DIR = os.path.join(TRAIN_DIR, 'none')\n",
        "VALID_STREET_DIR = os.path.join(VALID_DIR, 'street')\n",
        "VALID_NONE_DIR = os.path.join(VALID_DIR, 'none')\n",
        "TEST_STREET_DIR = os.path.join(TEST_DIR, 'street')\n",
        "TEST_NONE_DIR = os.path.join(TEST_DIR, 'none')"
      ]
    },
    {
      "cell_type": "markdown",
      "metadata": {
        "id": "r-qLu8eBEpu9"
      },
      "source": [
        "Delete old directories and create directories for the current runtime"
      ]
    },
    {
      "cell_type": "code",
      "execution_count": 3,
      "metadata": {
        "colab": {
          "base_uri": "https://localhost:8080/"
        },
        "id": "pWO-Xv2Tu0sC",
        "outputId": "48c89d72-b932-4774-ebfe-30889a3cbc3d"
      },
      "outputs": [
        {
          "name": "stdout",
          "output_type": "stream",
          "text": [
            "Directory /content/dataset created \n",
            "Directory  /content/dataset/valid created \n",
            "Directory  /content/dataset/test created \n",
            "Directory  /content/dataset/train/street created \n",
            "Directory  /content/dataset/train/none created \n",
            "Directory  /content/dataset/valid/street created \n",
            "Directory  /content/dataset/valid/none created \n",
            "Directory  /content/dataset/test/street created \n",
            "Directory  /content/dataset/test/none created \n"
          ]
        }
      ],
      "source": [
        "# remove any previous data\n",
        "dir_list = [DATASET_DIR]\n",
        "for dir in dir_list:\n",
        "    if (os.path.exists(dir)):\n",
        "        shutil.rmtree(dir)\n",
        "    os.makedirs(dir)\n",
        "    print(\"Directory\" , dir ,  \"created \")\n",
        "\n",
        "# make all necessary folders\n",
        "dir_list = [VALID_DIR, TEST_DIR,TRAIN_STREET_DIR,TRAIN_NONE_DIR, \\\n",
        "            VALID_STREET_DIR, VALID_NONE_DIR,TEST_STREET_DIR,TEST_NONE_DIR]\n",
        "\n",
        "for dir in dir_list:\n",
        "    os.makedirs(dir)\n",
        "    print(\"Directory \" , dir ,  \"created \")"
      ]
    },
    {
      "cell_type": "markdown",
      "metadata": {
        "id": "6TqlxcYCFDh3"
      },
      "source": [
        "Unpacking the ZIP archives:\n",
        "\n",
        "**Rooth path** => /content/drive/MyDrive/Colab Notebooks/data/training_data/dx_100/\n",
        "\n",
        "---\n",
        "\n",
        "For all resolutions for explicit examination area\n",
        "\n",
        "---\n",
        "\n",
        "\n",
        "- /content/drive/MyDrive/Colab Notebooks/data/training_data/dx_100/single_res_all_area/res_32_trainingdata.zip\n",
        "- /content/drive/MyDrive/Colab Notebooks/data/training_data/dx_100/single_res_all_area/res_64_trainingdata.zip\n",
        "- /content/drive/MyDrive/Colab Notebooks/data/training_data/dx_100/single_res_all_area/res_128_trainingdata.zip\n",
        "- /content/drive/MyDrive/Colab Notebooks/data/training_data/dx_100/single_res_all_area/res_256_trainingdata.zip\n",
        "- /content/drive/MyDrive/Colab Notebooks/data/training_data/dx_100/single_res_all_area/res_512_trainingdata.zip\n",
        "\n",
        "---\n",
        "\n",
        "Paths for specific resolution for explicit examination space\n",
        "\n",
        "---\n",
        "Amsterdam:\n",
        "- /content/drive/MyDrive/Colab Notebooks/data/training_data/dx_100/single_res_single_area/amsterdam_north-_res_32-trainingdata.zip\n",
        "- /content/drive/MyDrive/Colab Notebooks/data/training_data/dx_100/single_res_single_area/amsterdam_north-_res_64-trainingdata.zip\n",
        "- /content/drive/MyDrive/Colab Notebooks/data/training_data/dx_100/single_res_single_area/amsterdam_north-_res_128-trainingdata.zip\n",
        "- /content/drive/MyDrive/Colab Notebooks/data/training_data/dx_100/single_res_single_area/amsterdam_north-_res_256-trainingdata.zip\n",
        "- /content/drive/MyDrive/Colab Notebooks/data/training_data/dx_100/single_res_single_area/amsterdam_north-_res_512-trainingdata.zip\n",
        "\n",
        "Groningen:\n",
        "- /content/drive/MyDrive/Colab Notebooks/data/training_data/dx_100/single_res_single_area/groningen_south-_res_32-trainingdata.zip\n",
        "- /content/drive/MyDrive/Colab Notebooks/data/training_data/dx_100/single_res_single_area/groningen_south-_res_64-trainingdata.zip\n",
        "- /content/drive/MyDrive/Colab Notebooks/data/training_data/dx_100/single_res_single_area/groningen_south-_res_128-trainingdata.zip\n",
        "- /content/drive/MyDrive/Colab Notebooks/data/training_data/dx_100/single_res_single_area/groningen_south-_res_256-trainingdata.zip\n",
        "- /content/drive/MyDrive/Colab Notebooks/data/training_data/dx_100/single_res_single_area/groningen_south-_res_512-trainingdata.zip\n",
        "\n",
        "Leeuwarden:\n",
        "- /content/drive/MyDrive/Colab Notebooks/data/training_data/dx_100/single_res_single_area/leeuwarden-_res_32-trainingdata.zip\n",
        "- /content/drive/MyDrive/Colab Notebooks/data/training_data/dx_100/single_res_single_area/leeuwarden-_res_64-trainingdata.zip\n",
        "- /content/drive/MyDrive/Colab Notebooks/data/training_data/dx_100/single_res_single_area/leeuwarden-_res_128-trainingdata.zip\n",
        "- /content/drive/MyDrive/Colab Notebooks/data/training_data/dx_100/single_res_single_area/leeuwarden-_res_256-trainingdata.zip\n",
        "- /content/drive/MyDrive/Colab Notebooks/data/training_data/dx_100/single_res_single_area/leeuwarden-_res_512-trainingdata.zip\n",
        "\n",
        "Rotterdam:\n",
        "- /content/drive/MyDrive/Colab Notebooks/data/training_data/dx_100/single_res_single_area/rotterdam_southeast-_res_32-trainingdata.zip\n",
        "- /content/drive/MyDrive/Colab Notebooks/data/training_data/dx_100/single_res_single_area/rotterdam_southeast-_res_64-trainingdata.zip\n",
        "- /content/drive/MyDrive/Colab Notebooks/data/training_data/dx_100/single_res_single_area/rotterdam_southeast-_res_128-trainingdata.zip\n",
        "- /content/drive/MyDrive/Colab Notebooks/data/training_data/dx_100/single_res_single_area/rotterdam_southeast-_res_256-trainingdata.zip\n",
        "- /content/drive/MyDrive/Colab Notebooks/data/training_data/dx_100/single_res_single_area/rotterdam_southeast-_res_512-trainingdata.zip\n",
        "\n",
        "Utrecht:\n",
        "- /content/drive/MyDrive/Colab Notebooks/data/training_data/dx_100/single_res_single_area/utrecht-_res_32-trainingdata.zip\n",
        "- /content/drive/MyDrive/Colab Notebooks/data/training_data/dx_100/single_res_single_area/utrecht-_res_64-trainingdata.zip\n",
        "- /content/drive/MyDrive/Colab Notebooks/data/training_data/dx_100/single_res_single_area/utrecht-_res_128-trainingdata.zip\n",
        "- /content/drive/MyDrive/Colab Notebooks/data/training_data/dx_100/single_res_single_area/utrecht-_res_256-trainingdata.zip\n",
        "- /content/drive/MyDrive/Colab Notebooks/data/training_data/dx_100/single_res_single_area/utrecht-_res_512-trainingdata.zip"
      ]
    },
    {
      "cell_type": "code",
      "execution_count": 4,
      "metadata": {
        "id": "4vjKv3b16y3X"
      },
      "outputs": [],
      "source": [
        "dataset_source = \"/content/drive/MyDrive/Colab Notebooks/data/training_data/dx_100/single_res_single_area/utrecht-_res_128-trainingdata.zip\"\n",
        "dataset = 'utrecht-_res_128-trainingdata'"
      ]
    },
    {
      "cell_type": "code",
      "execution_count": 6,
      "metadata": {
        "colab": {
          "base_uri": "https://localhost:8080/"
        },
        "id": "afRlP21su4SG",
        "outputId": "669f8f93-68ac-4d77-c131-5af00c47759e"
      },
      "outputs": [
        {
          "name": "stdout",
          "output_type": "stream",
          "text": [
            "Unzipped dataset..\n"
          ]
        }
      ],
      "source": [
        "# unzip the trainingdata archive\n",
        "\n",
        "zip_ref = zipfile.ZipFile(dataset_source , 'r')\n",
        "zip_ref.extractall(dataset)\n",
        "zip_ref.close()\n",
        "\n",
        "print('Unzipped dataset..')"
      ]
    },
    {
      "cell_type": "code",
      "execution_count": 7,
      "metadata": {
        "id": "8V1wsbseGhdr"
      },
      "outputs": [],
      "source": [
        "res = 256"
      ]
    },
    {
      "cell_type": "markdown",
      "metadata": {
        "id": "E46Ee337dzOv"
      },
      "source": [
        "Create list"
      ]
    },
    {
      "cell_type": "code",
      "execution_count": 10,
      "metadata": {
        "colab": {
          "base_uri": "https://localhost:8080/"
        },
        "collapsed": true,
        "id": "DeOaZI-Svtmx",
        "outputId": "306e596c-a871-4540-f710-ea740653cbca"
      },
      "outputs": [
        {
          "data": {
            "text/plain": [
              "['utrecht-_res_128-trainingdata/street_136000_452100_136100_452200.jpg',\n",
              " 'utrecht-_res_128-trainingdata/street_129100_448400_129200_448500.jpg',\n",
              " 'utrecht-_res_128-trainingdata/none_129000_452200_129100_452300.jpg',\n",
              " 'utrecht-_res_128-trainingdata/street_133100_455100_133200_455200.jpg',\n",
              " 'utrecht-_res_128-trainingdata/none_127900_452400_128000_452500.jpg',\n",
              " 'utrecht-_res_128-trainingdata/none_131400_449700_131500_449800.jpg',\n",
              " 'utrecht-_res_128-trainingdata/street_132800_449600_132900_449700.jpg',\n",
              " 'utrecht-_res_128-trainingdata/none_133000_447200_133100_447300.jpg',\n",
              " 'utrecht-_res_128-trainingdata/none_127500_451200_127600_451300.jpg',\n",
              " 'utrecht-_res_128-trainingdata/none_137100_451800_137200_451900.jpg',\n",
              " 'utrecht-_res_128-trainingdata/street_136400_447200_136500_447300.jpg',\n",
              " 'utrecht-_res_128-trainingdata/none_128900_453900_129000_454000.jpg',\n",
              " 'utrecht-_res_128-trainingdata/none_129200_448700_129300_448800.jpg',\n",
              " 'utrecht-_res_128-trainingdata/street_131600_448900_131700_449000.jpg',\n",
              " 'utrecht-_res_128-trainingdata/none_132400_452600_132500_452700.jpg',\n",
              " 'utrecht-_res_128-trainingdata/none_130900_451300_131000_451400.jpg',\n",
              " 'utrecht-_res_128-trainingdata/street_133400_453300_133500_453400.jpg',\n",
              " 'utrecht-_res_128-trainingdata/street_127500_455700_127600_455800.jpg',\n",
              " 'utrecht-_res_128-trainingdata/street_134900_448500_135000_448600.jpg',\n",
              " 'utrecht-_res_128-trainingdata/none_137000_450600_137100_450700.jpg',\n",
              " 'utrecht-_res_128-trainingdata/street_133500_450800_133600_450900.jpg',\n",
              " 'utrecht-_res_128-trainingdata/street_133100_455200_133200_455300.jpg',\n",
              " 'utrecht-_res_128-trainingdata/street_137100_450500_137200_450600.jpg',\n",
              " 'utrecht-_res_128-trainingdata/street_134400_449200_134500_449300.jpg',\n",
              " 'utrecht-_res_128-trainingdata/street_136700_447900_136800_448000.jpg',\n",
              " 'utrecht-_res_128-trainingdata/street_131300_456900_131400_457000.jpg',\n",
              " 'utrecht-_res_128-trainingdata/none_129100_448000_129200_448100.jpg',\n",
              " 'utrecht-_res_128-trainingdata/none_129000_451300_129100_451400.jpg',\n",
              " 'utrecht-_res_128-trainingdata/street_131700_456000_131800_456100.jpg',\n",
              " 'utrecht-_res_128-trainingdata/none_130200_451300_130300_451400.jpg',\n",
              " 'utrecht-_res_128-trainingdata/street_133100_447900_133200_448000.jpg',\n",
              " 'utrecht-_res_128-trainingdata/street_131200_447100_131300_447200.jpg',\n",
              " 'utrecht-_res_128-trainingdata/street_132200_448600_132300_448700.jpg',\n",
              " 'utrecht-_res_128-trainingdata/street_131700_456600_131800_456700.jpg',\n",
              " 'utrecht-_res_128-trainingdata/street_133500_453100_133600_453200.jpg',\n",
              " 'utrecht-_res_128-trainingdata/street_130300_456500_130400_456600.jpg',\n",
              " 'utrecht-_res_128-trainingdata/street_131400_456200_131500_456300.jpg',\n",
              " 'utrecht-_res_128-trainingdata/none_129600_450300_129700_450400.jpg',\n",
              " 'utrecht-_res_128-trainingdata/none_135800_450800_135900_450900.jpg',\n",
              " 'utrecht-_res_128-trainingdata/street_135400_456800_135500_456900.jpg',\n",
              " 'utrecht-_res_128-trainingdata/none_137200_449900_137300_450000.jpg',\n",
              " 'utrecht-_res_128-trainingdata/street_133200_454900_133300_455000.jpg',\n",
              " 'utrecht-_res_128-trainingdata/street_132900_447700_133000_447800.jpg',\n",
              " 'utrecht-_res_128-trainingdata/street_136600_453200_136700_453300.jpg',\n",
              " 'utrecht-_res_128-trainingdata/none_128000_448900_128100_449000.jpg',\n",
              " 'utrecht-_res_128-trainingdata/none_130200_447700_130300_447800.jpg',\n",
              " 'utrecht-_res_128-trainingdata/none_132700_451700_132800_451800.jpg',\n",
              " 'utrecht-_res_128-trainingdata/none_132700_454600_132800_454700.jpg',\n",
              " 'utrecht-_res_128-trainingdata/none_129700_451700_129800_451800.jpg',\n",
              " 'utrecht-_res_128-trainingdata/none_128300_455100_128400_455200.jpg',\n",
              " 'utrecht-_res_128-trainingdata/street_137000_447700_137100_447800.jpg',\n",
              " 'utrecht-_res_128-trainingdata/none_128700_453600_128800_453700.jpg',\n",
              " 'utrecht-_res_128-trainingdata/street_128200_456400_128300_456500.jpg',\n",
              " 'utrecht-_res_128-trainingdata/street_132100_455300_132200_455400.jpg',\n",
              " 'utrecht-_res_128-trainingdata/none_132900_452200_133000_452300.jpg',\n",
              " 'utrecht-_res_128-trainingdata/none_134100_456900_134200_457000.jpg',\n",
              " 'utrecht-_res_128-trainingdata/none_128000_452400_128100_452500.jpg',\n",
              " 'utrecht-_res_128-trainingdata/street_132000_455600_132100_455700.jpg',\n",
              " 'utrecht-_res_128-trainingdata/none_132200_449700_132300_449800.jpg',\n",
              " 'utrecht-_res_128-trainingdata/none_127400_452800_127500_452900.jpg',\n",
              " 'utrecht-_res_128-trainingdata/none_137000_450300_137100_450400.jpg',\n",
              " 'utrecht-_res_128-trainingdata/street_135500_455700_135600_455800.jpg',\n",
              " 'utrecht-_res_128-trainingdata/street_134600_447100_134700_447200.jpg',\n",
              " 'utrecht-_res_128-trainingdata/none_127800_455200_127900_455300.jpg',\n",
              " 'utrecht-_res_128-trainingdata/none_132600_452100_132700_452200.jpg',\n",
              " 'utrecht-_res_128-trainingdata/none_128700_451900_128800_452000.jpg',\n",
              " 'utrecht-_res_128-trainingdata/street_133900_456400_134000_456500.jpg',\n",
              " 'utrecht-_res_128-trainingdata/none_127700_456300_127800_456400.jpg',\n",
              " 'utrecht-_res_128-trainingdata/street_136100_452400_136200_452500.jpg',\n",
              " 'utrecht-_res_128-trainingdata/street_137000_450700_137100_450800.jpg',\n",
              " 'utrecht-_res_128-trainingdata/street_132600_455500_132700_455600.jpg',\n",
              " 'utrecht-_res_128-trainingdata/street_134700_447600_134800_447700.jpg',\n",
              " 'utrecht-_res_128-trainingdata/street_128300_454500_128400_454600.jpg',\n",
              " 'utrecht-_res_128-trainingdata/street_136700_454100_136800_454200.jpg',\n",
              " 'utrecht-_res_128-trainingdata/street_134000_449900_134100_450000.jpg',\n",
              " 'utrecht-_res_128-trainingdata/street_133700_450000_133800_450100.jpg',\n",
              " 'utrecht-_res_128-trainingdata/street_134300_453100_134400_453200.jpg',\n",
              " 'utrecht-_res_128-trainingdata/street_133400_449000_133500_449100.jpg',\n",
              " 'utrecht-_res_128-trainingdata/street_134700_448600_134800_448700.jpg',\n",
              " 'utrecht-_res_128-trainingdata/street_127900_455900_128000_456000.jpg',\n",
              " 'utrecht-_res_128-trainingdata/none_129300_448400_129400_448500.jpg',\n",
              " 'utrecht-_res_128-trainingdata/none_134100_447200_134200_447300.jpg',\n",
              " 'utrecht-_res_128-trainingdata/street_136700_452400_136800_452500.jpg',\n",
              " 'utrecht-_res_128-trainingdata/street_130700_449000_130800_449100.jpg',\n",
              " 'utrecht-_res_128-trainingdata/street_132300_448500_132400_448600.jpg',\n",
              " 'utrecht-_res_128-trainingdata/none_127600_455100_127700_455200.jpg',\n",
              " 'utrecht-_res_128-trainingdata/none_127700_451000_127800_451100.jpg',\n",
              " 'utrecht-_res_128-trainingdata/street_135700_448700_135800_448800.jpg',\n",
              " 'utrecht-_res_128-trainingdata/none_135600_454700_135700_454800.jpg',\n",
              " 'utrecht-_res_128-trainingdata/street_128100_456400_128200_456500.jpg',\n",
              " 'utrecht-_res_128-trainingdata/street_134300_455400_134400_455500.jpg',\n",
              " 'utrecht-_res_128-trainingdata/none_129400_450500_129500_450600.jpg',\n",
              " 'utrecht-_res_128-trainingdata/street_132400_454300_132500_454400.jpg',\n",
              " 'utrecht-_res_128-trainingdata/street_130600_448300_130700_448400.jpg',\n",
              " 'utrecht-_res_128-trainingdata/street_130600_454300_130700_454400.jpg',\n",
              " 'utrecht-_res_128-trainingdata/street_128200_454500_128300_454600.jpg',\n",
              " 'utrecht-_res_128-trainingdata/street_136300_447300_136400_447400.jpg',\n",
              " 'utrecht-_res_128-trainingdata/none_129000_451700_129100_451800.jpg',\n",
              " 'utrecht-_res_128-trainingdata/none_132500_450900_132600_451000.jpg',\n",
              " 'utrecht-_res_128-trainingdata/street_128500_456600_128600_456700.jpg',\n",
              " 'utrecht-_res_128-trainingdata/street_137000_453400_137100_453500.jpg',\n",
              " 'utrecht-_res_128-trainingdata/street_136100_447100_136200_447200.jpg',\n",
              " 'utrecht-_res_128-trainingdata/street_135100_448700_135200_448800.jpg',\n",
              " 'utrecht-_res_128-trainingdata/none_129600_450400_129700_450500.jpg',\n",
              " 'utrecht-_res_128-trainingdata/none_127800_450400_127900_450500.jpg',\n",
              " 'utrecht-_res_128-trainingdata/street_127500_455800_127600_455900.jpg',\n",
              " 'utrecht-_res_128-trainingdata/none_131300_452300_131400_452400.jpg',\n",
              " 'utrecht-_res_128-trainingdata/none_131200_450600_131300_450700.jpg',\n",
              " 'utrecht-_res_128-trainingdata/street_137100_448100_137200_448200.jpg',\n",
              " 'utrecht-_res_128-trainingdata/none_128400_455300_128500_455400.jpg',\n",
              " 'utrecht-_res_128-trainingdata/none_132500_451700_132600_451800.jpg',\n",
              " 'utrecht-_res_128-trainingdata/none_136400_450100_136500_450200.jpg',\n",
              " 'utrecht-_res_128-trainingdata/none_128100_447100_128200_447200.jpg',\n",
              " 'utrecht-_res_128-trainingdata/none_127400_448300_127500_448400.jpg',\n",
              " 'utrecht-_res_128-trainingdata/street_134300_451300_134400_451400.jpg',\n",
              " 'utrecht-_res_128-trainingdata/street_133500_449500_133600_449600.jpg',\n",
              " 'utrecht-_res_128-trainingdata/street_131400_453600_131500_453700.jpg',\n",
              " 'utrecht-_res_128-trainingdata/street_137000_455600_137100_455700.jpg',\n",
              " 'utrecht-_res_128-trainingdata/none_135500_455300_135600_455400.jpg',\n",
              " 'utrecht-_res_128-trainingdata/street_136200_454000_136300_454100.jpg',\n",
              " 'utrecht-_res_128-trainingdata/street_133500_448000_133600_448100.jpg',\n",
              " 'utrecht-_res_128-trainingdata/none_129800_451100_129900_451200.jpg',\n",
              " 'utrecht-_res_128-trainingdata/street_128900_455300_129000_455400.jpg',\n",
              " 'utrecht-_res_128-trainingdata/none_129000_454500_129100_454600.jpg',\n",
              " 'utrecht-_res_128-trainingdata/street_136500_448300_136600_448400.jpg',\n",
              " 'utrecht-_res_128-trainingdata/street_132200_455400_132300_455500.jpg',\n",
              " 'utrecht-_res_128-trainingdata/none_128500_448900_128600_449000.jpg',\n",
              " 'utrecht-_res_128-trainingdata/street_132700_455600_132800_455700.jpg',\n",
              " 'utrecht-_res_128-trainingdata/none_129800_449700_129900_449800.jpg',\n",
              " 'utrecht-_res_128-trainingdata/street_132600_447900_132700_448000.jpg',\n",
              " 'utrecht-_res_128-trainingdata/none_129500_452000_129600_452100.jpg',\n",
              " 'utrecht-_res_128-trainingdata/street_134500_448300_134600_448400.jpg',\n",
              " 'utrecht-_res_128-trainingdata/street_134700_450700_134800_450800.jpg',\n",
              " 'utrecht-_res_128-trainingdata/none_137200_452100_137300_452200.jpg',\n",
              " 'utrecht-_res_128-trainingdata/street_130400_455000_130500_455100.jpg',\n",
              " 'utrecht-_res_128-trainingdata/street_135500_456000_135600_456100.jpg',\n",
              " 'utrecht-_res_128-trainingdata/none_130400_449200_130500_449300.jpg',\n",
              " 'utrecht-_res_128-trainingdata/none_129800_448400_129900_448500.jpg',\n",
              " 'utrecht-_res_128-trainingdata/street_135100_456400_135200_456500.jpg',\n",
              " 'utrecht-_res_128-trainingdata/street_130200_454600_130300_454700.jpg',\n",
              " 'utrecht-_res_128-trainingdata/none_137200_451400_137300_451500.jpg',\n",
              " 'utrecht-_res_128-trainingdata/none_129000_448800_129100_448900.jpg',\n",
              " 'utrecht-_res_128-trainingdata/street_134100_456300_134200_456400.jpg',\n",
              " 'utrecht-_res_128-trainingdata/street_134600_456000_134700_456100.jpg',\n",
              " 'utrecht-_res_128-trainingdata/none_132500_449600_132600_449700.jpg',\n",
              " 'utrecht-_res_128-trainingdata/street_136600_447000_136700_447100.jpg',\n",
              " 'utrecht-_res_128-trainingdata/none_132100_452000_132200_452100.jpg',\n",
              " 'utrecht-_res_128-trainingdata/street_133500_453900_133600_454000.jpg',\n",
              " 'utrecht-_res_128-trainingdata/street_131500_453500_131600_453600.jpg',\n",
              " 'utrecht-_res_128-trainingdata/street_134600_456900_134700_457000.jpg',\n",
              " 'utrecht-_res_128-trainingdata/street_132200_448700_132300_448800.jpg',\n",
              " 'utrecht-_res_128-trainingdata/street_135300_448500_135400_448600.jpg',\n",
              " 'utrecht-_res_128-trainingdata/street_135100_455000_135200_455100.jpg',\n",
              " 'utrecht-_res_128-trainingdata/none_128000_455600_128100_455700.jpg',\n",
              " 'utrecht-_res_128-trainingdata/street_135800_452900_135900_453000.jpg',\n",
              " 'utrecht-_res_128-trainingdata/none_131400_450200_131500_450300.jpg',\n",
              " 'utrecht-_res_128-trainingdata/street_132500_455600_132600_455700.jpg',\n",
              " 'utrecht-_res_128-trainingdata/none_128100_453400_128200_453500.jpg',\n",
              " 'utrecht-_res_128-trainingdata/street_136000_450500_136100_450600.jpg',\n",
              " 'utrecht-_res_128-trainingdata/street_131100_455600_131200_455700.jpg',\n",
              " 'utrecht-_res_128-trainingdata/street_134700_447000_134800_447100.jpg',\n",
              " 'utrecht-_res_128-trainingdata/street_128400_450400_128500_450500.jpg',\n",
              " 'utrecht-_res_128-trainingdata/street_135400_453800_135500_453900.jpg',\n",
              " 'utrecht-_res_128-trainingdata/street_134500_456800_134600_456900.jpg',\n",
              " 'utrecht-_res_128-trainingdata/none_129900_452700_130000_452800.jpg',\n",
              " 'utrecht-_res_128-trainingdata/street_135600_448100_135700_448200.jpg',\n",
              " 'utrecht-_res_128-trainingdata/street_135200_454300_135300_454400.jpg',\n",
              " 'utrecht-_res_128-trainingdata/street_136000_456200_136100_456300.jpg',\n",
              " 'utrecht-_res_128-trainingdata/street_136100_447000_136200_447100.jpg',\n",
              " 'utrecht-_res_128-trainingdata/street_130600_455200_130700_455300.jpg',\n",
              " 'utrecht-_res_128-trainingdata/street_129200_450500_129300_450600.jpg',\n",
              " 'utrecht-_res_128-trainingdata/street_131600_455200_131700_455300.jpg',\n",
              " 'utrecht-_res_128-trainingdata/street_132100_455500_132200_455600.jpg',\n",
              " 'utrecht-_res_128-trainingdata/none_132300_453700_132400_453800.jpg',\n",
              " 'utrecht-_res_128-trainingdata/none_130000_449300_130100_449400.jpg',\n",
              " 'utrecht-_res_128-trainingdata/street_134600_456800_134700_456900.jpg',\n",
              " 'utrecht-_res_128-trainingdata/none_128300_452600_128400_452700.jpg',\n",
              " 'utrecht-_res_128-trainingdata/none_132300_451700_132400_451800.jpg',\n",
              " 'utrecht-_res_128-trainingdata/street_135600_449500_135700_449600.jpg',\n",
              " 'utrecht-_res_128-trainingdata/street_135900_453100_136000_453200.jpg',\n",
              " 'utrecht-_res_128-trainingdata/none_135600_451000_135700_451100.jpg',\n",
              " 'utrecht-_res_128-trainingdata/street_129800_454900_129900_455000.jpg',\n",
              " 'utrecht-_res_128-trainingdata/none_127500_450000_127600_450100.jpg',\n",
              " 'utrecht-_res_128-trainingdata/street_133300_453200_133400_453300.jpg',\n",
              " 'utrecht-_res_128-trainingdata/none_131000_453100_131100_453200.jpg',\n",
              " 'utrecht-_res_128-trainingdata/none_132300_453000_132400_453100.jpg',\n",
              " 'utrecht-_res_128-trainingdata/none_130500_452600_130600_452700.jpg',\n",
              " 'utrecht-_res_128-trainingdata/none_128300_451300_128400_451400.jpg',\n",
              " 'utrecht-_res_128-trainingdata/street_131700_448300_131800_448400.jpg',\n",
              " 'utrecht-_res_128-trainingdata/none_131500_451700_131600_451800.jpg',\n",
              " 'utrecht-_res_128-trainingdata/none_134300_447600_134400_447700.jpg',\n",
              " 'utrecht-_res_128-trainingdata/street_135800_456500_135900_456600.jpg',\n",
              " 'utrecht-_res_128-trainingdata/none_127800_456000_127900_456100.jpg',\n",
              " 'utrecht-_res_128-trainingdata/street_131700_453600_131800_453700.jpg',\n",
              " 'utrecht-_res_128-trainingdata/street_136700_453900_136800_454000.jpg',\n",
              " 'utrecht-_res_128-trainingdata/street_136900_454200_137000_454300.jpg',\n",
              " 'utrecht-_res_128-trainingdata/none_130200_454800_130300_454900.jpg',\n",
              " 'utrecht-_res_128-trainingdata/none_128700_451700_128800_451800.jpg',\n",
              " 'utrecht-_res_128-trainingdata/street_135000_455400_135100_455500.jpg',\n",
              " 'utrecht-_res_128-trainingdata/none_137300_449300_137400_449400.jpg',\n",
              " 'utrecht-_res_128-trainingdata/none_127800_451100_127900_451200.jpg',\n",
              " 'utrecht-_res_128-trainingdata/street_131400_455000_131500_455100.jpg',\n",
              " 'utrecht-_res_128-trainingdata/none_131900_449300_132000_449400.jpg',\n",
              " 'utrecht-_res_128-trainingdata/street_129500_454500_129600_454600.jpg',\n",
              " 'utrecht-_res_128-trainingdata/none_129600_451300_129700_451400.jpg',\n",
              " 'utrecht-_res_128-trainingdata/street_136500_450500_136600_450600.jpg',\n",
              " 'utrecht-_res_128-trainingdata/street_134700_453000_134800_453100.jpg',\n",
              " 'utrecht-_res_128-trainingdata/street_136300_455200_136400_455300.jpg',\n",
              " 'utrecht-_res_128-trainingdata/street_130800_447900_130900_448000.jpg',\n",
              " 'utrecht-_res_128-trainingdata/none_127700_451400_127800_451500.jpg',\n",
              " 'utrecht-_res_128-trainingdata/street_131500_448800_131600_448900.jpg',\n",
              " 'utrecht-_res_128-trainingdata/street_133400_451200_133500_451300.jpg',\n",
              " 'utrecht-_res_128-trainingdata/street_134700_455500_134800_455600.jpg',\n",
              " 'utrecht-_res_128-trainingdata/none_131800_452700_131900_452800.jpg',\n",
              " 'utrecht-_res_128-trainingdata/street_131600_455000_131700_455100.jpg',\n",
              " 'utrecht-_res_128-trainingdata/street_131400_453800_131500_453900.jpg',\n",
              " 'utrecht-_res_128-trainingdata/none_131600_452800_131700_452900.jpg',\n",
              " 'utrecht-_res_128-trainingdata/street_133700_454200_133800_454300.jpg',\n",
              " 'utrecht-_res_128-trainingdata/street_131200_454700_131300_454800.jpg',\n",
              " 'utrecht-_res_128-trainingdata/street_136100_447300_136200_447400.jpg',\n",
              " 'utrecht-_res_128-trainingdata/street_129700_456800_129800_456900.jpg',\n",
              " 'utrecht-_res_128-trainingdata/street_131500_449200_131600_449300.jpg',\n",
              " 'utrecht-_res_128-trainingdata/street_131500_456500_131600_456600.jpg',\n",
              " 'utrecht-_res_128-trainingdata/none_129100_448300_129200_448400.jpg',\n",
              " 'utrecht-_res_128-trainingdata/street_128800_449000_128900_449100.jpg',\n",
              " 'utrecht-_res_128-trainingdata/street_131300_448600_131400_448700.jpg',\n",
              " 'utrecht-_res_128-trainingdata/street_128700_456800_128800_456900.jpg',\n",
              " 'utrecht-_res_128-trainingdata/street_136300_455600_136400_455700.jpg',\n",
              " 'utrecht-_res_128-trainingdata/none_128900_453300_129000_453400.jpg',\n",
              " 'utrecht-_res_128-trainingdata/street_129900_449700_130000_449800.jpg',\n",
              " 'utrecht-_res_128-trainingdata/street_134700_453800_134800_453900.jpg',\n",
              " 'utrecht-_res_128-trainingdata/street_135000_453700_135100_453800.jpg',\n",
              " 'utrecht-_res_128-trainingdata/street_133700_451600_133800_451700.jpg',\n",
              " 'utrecht-_res_128-trainingdata/none_135600_454600_135700_454700.jpg',\n",
              " 'utrecht-_res_128-trainingdata/none_127700_447300_127800_447400.jpg',\n",
              " 'utrecht-_res_128-trainingdata/none_135800_451100_135900_451200.jpg',\n",
              " 'utrecht-_res_128-trainingdata/street_130800_454600_130900_454700.jpg',\n",
              " 'utrecht-_res_128-trainingdata/street_137300_456500_137400_456600.jpg',\n",
              " 'utrecht-_res_128-trainingdata/street_135500_450000_135600_450100.jpg',\n",
              " 'utrecht-_res_128-trainingdata/street_136700_447300_136800_447400.jpg',\n",
              " 'utrecht-_res_128-trainingdata/street_133900_449500_134000_449600.jpg',\n",
              " 'utrecht-_res_128-trainingdata/street_133400_448800_133500_448900.jpg',\n",
              " 'utrecht-_res_128-trainingdata/none_128400_452200_128500_452300.jpg',\n",
              " 'utrecht-_res_128-trainingdata/street_135200_449700_135300_449800.jpg',\n",
              " 'utrecht-_res_128-trainingdata/none_132600_453900_132700_454000.jpg',\n",
              " 'utrecht-_res_128-trainingdata/none_131000_449100_131100_449200.jpg',\n",
              " 'utrecht-_res_128-trainingdata/none_133900_447600_134000_447700.jpg',\n",
              " 'utrecht-_res_128-trainingdata/street_133600_456400_133700_456500.jpg',\n",
              " 'utrecht-_res_128-trainingdata/street_136800_447700_136900_447800.jpg',\n",
              " 'utrecht-_res_128-trainingdata/street_133800_456000_133900_456100.jpg',\n",
              " 'utrecht-_res_128-trainingdata/street_132700_448700_132800_448800.jpg',\n",
              " 'utrecht-_res_128-trainingdata/street_130700_455300_130800_455400.jpg',\n",
              " 'utrecht-_res_128-trainingdata/none_128600_447100_128700_447200.jpg',\n",
              " 'utrecht-_res_128-trainingdata/street_129400_450800_129500_450900.jpg',\n",
              " 'utrecht-_res_128-trainingdata/none_130100_452100_130200_452200.jpg',\n",
              " 'utrecht-_res_128-trainingdata/street_128600_456300_128700_456400.jpg',\n",
              " 'utrecht-_res_128-trainingdata/none_136400_449500_136500_449600.jpg',\n",
              " 'utrecht-_res_128-trainingdata/street_134300_456600_134400_456700.jpg',\n",
              " 'utrecht-_res_128-trainingdata/none_127500_453600_127600_453700.jpg',\n",
              " 'utrecht-_res_128-trainingdata/none_130000_449000_130100_449100.jpg',\n",
              " 'utrecht-_res_128-trainingdata/street_131700_448900_131800_449000.jpg',\n",
              " 'utrecht-_res_128-trainingdata/street_136100_448500_136200_448600.jpg',\n",
              " 'utrecht-_res_128-trainingdata/street_131500_451100_131600_451200.jpg',\n",
              " 'utrecht-_res_128-trainingdata/street_135100_452300_135200_452400.jpg',\n",
              " 'utrecht-_res_128-trainingdata/none_132000_450900_132100_451000.jpg',\n",
              " 'utrecht-_res_128-trainingdata/none_128200_452200_128300_452300.jpg',\n",
              " 'utrecht-_res_128-trainingdata/street_134000_455900_134100_456000.jpg',\n",
              " 'utrecht-_res_128-trainingdata/none_132600_451500_132700_451600.jpg',\n",
              " 'utrecht-_res_128-trainingdata/none_129200_451800_129300_451900.jpg',\n",
              " 'utrecht-_res_128-trainingdata/none_128700_451800_128800_451900.jpg',\n",
              " 'utrecht-_res_128-trainingdata/street_133700_449200_133800_449300.jpg',\n",
              " 'utrecht-_res_128-trainingdata/none_133700_455600_133800_455700.jpg',\n",
              " 'utrecht-_res_128-trainingdata/street_131200_448500_131300_448600.jpg',\n",
              " 'utrecht-_res_128-trainingdata/street_134900_455500_135000_455600.jpg',\n",
              " 'utrecht-_res_128-trainingdata/street_130100_454600_130200_454700.jpg',\n",
              " 'utrecht-_res_128-trainingdata/street_136000_455900_136100_456000.jpg',\n",
              " 'utrecht-_res_128-trainingdata/street_134400_447500_134500_447600.jpg',\n",
              " 'utrecht-_res_128-trainingdata/street_136900_447500_137000_447600.jpg',\n",
              " 'utrecht-_res_128-trainingdata/street_135300_450700_135400_450800.jpg',\n",
              " 'utrecht-_res_128-trainingdata/street_128200_456000_128300_456100.jpg',\n",
              " 'utrecht-_res_128-trainingdata/street_135600_447300_135700_447400.jpg',\n",
              " 'utrecht-_res_128-trainingdata/none_132800_453700_132900_453800.jpg',\n",
              " 'utrecht-_res_128-trainingdata/none_128200_454100_128300_454200.jpg',\n",
              " 'utrecht-_res_128-trainingdata/street_135000_452400_135100_452500.jpg',\n",
              " 'utrecht-_res_128-trainingdata/none_131300_451800_131400_451900.jpg',\n",
              " 'utrecht-_res_128-trainingdata/none_136000_451200_136100_451300.jpg',\n",
              " 'utrecht-_res_128-trainingdata/street_137300_454000_137400_454100.jpg',\n",
              " 'utrecht-_res_128-trainingdata/street_135500_453000_135600_453100.jpg',\n",
              " 'utrecht-_res_128-trainingdata/street_132400_455200_132500_455300.jpg',\n",
              " 'utrecht-_res_128-trainingdata/street_134000_452800_134100_452900.jpg',\n",
              " 'utrecht-_res_128-trainingdata/street_134800_454800_134900_454900.jpg',\n",
              " 'utrecht-_res_128-trainingdata/street_134800_448300_134900_448400.jpg',\n",
              " 'utrecht-_res_128-trainingdata/none_132200_450200_132300_450300.jpg',\n",
              " 'utrecht-_res_128-trainingdata/street_136900_448800_137000_448900.jpg',\n",
              " 'utrecht-_res_128-trainingdata/street_135400_452700_135500_452800.jpg',\n",
              " 'utrecht-_res_128-trainingdata/none_128200_454400_128300_454500.jpg',\n",
              " 'utrecht-_res_128-trainingdata/street_133300_453600_133400_453700.jpg',\n",
              " 'utrecht-_res_128-trainingdata/street_130600_453600_130700_453700.jpg',\n",
              " 'utrecht-_res_128-trainingdata/street_135500_447900_135600_448000.jpg',\n",
              " 'utrecht-_res_128-trainingdata/none_137100_451700_137200_451800.jpg',\n",
              " 'utrecht-_res_128-trainingdata/street_134100_451900_134200_452000.jpg',\n",
              " 'utrecht-_res_128-trainingdata/none_135300_452100_135400_452200.jpg',\n",
              " 'utrecht-_res_128-trainingdata/street_130600_456100_130700_456200.jpg',\n",
              " 'utrecht-_res_128-trainingdata/street_130400_448300_130500_448400.jpg',\n",
              " 'utrecht-_res_128-trainingdata/street_133600_448400_133700_448500.jpg',\n",
              " 'utrecht-_res_128-trainingdata/street_132300_454200_132400_454300.jpg',\n",
              " 'utrecht-_res_128-trainingdata/street_128200_456100_128300_456200.jpg',\n",
              " 'utrecht-_res_128-trainingdata/none_135500_450400_135600_450500.jpg',\n",
              " 'utrecht-_res_128-trainingdata/none_132200_451600_132300_451700.jpg',\n",
              " 'utrecht-_res_128-trainingdata/street_136900_453300_137000_453400.jpg',\n",
              " 'utrecht-_res_128-trainingdata/none_129600_447400_129700_447500.jpg',\n",
              " 'utrecht-_res_128-trainingdata/street_134900_450100_135000_450200.jpg',\n",
              " 'utrecht-_res_128-trainingdata/none_131100_449000_131200_449100.jpg',\n",
              " 'utrecht-_res_128-trainingdata/street_131800_455000_131900_455100.jpg',\n",
              " 'utrecht-_res_128-trainingdata/street_134600_449200_134700_449300.jpg',\n",
              " 'utrecht-_res_128-trainingdata/none_129500_452900_129600_453000.jpg',\n",
              " 'utrecht-_res_128-trainingdata/none_130600_450800_130700_450900.jpg',\n",
              " 'utrecht-_res_128-trainingdata/street_134600_449800_134700_449900.jpg',\n",
              " 'utrecht-_res_128-trainingdata/none_128000_447900_128100_448000.jpg',\n",
              " 'utrecht-_res_128-trainingdata/none_136900_450900_137000_451000.jpg',\n",
              " 'utrecht-_res_128-trainingdata/street_131500_456100_131600_456200.jpg',\n",
              " 'utrecht-_res_128-trainingdata/none_134100_452500_134200_452600.jpg',\n",
              " 'utrecht-_res_128-trainingdata/street_133100_455800_133200_455900.jpg',\n",
              " 'utrecht-_res_128-trainingdata/street_130600_454000_130700_454100.jpg',\n",
              " 'utrecht-_res_128-trainingdata/none_127800_450600_127900_450700.jpg',\n",
              " 'utrecht-_res_128-trainingdata/street_134300_448900_134400_449000.jpg',\n",
              " 'utrecht-_res_128-trainingdata/street_135000_451300_135100_451400.jpg',\n",
              " 'utrecht-_res_128-trainingdata/street_136300_452500_136400_452600.jpg',\n",
              " 'utrecht-_res_128-trainingdata/none_127800_456400_127900_456500.jpg',\n",
              " 'utrecht-_res_128-trainingdata/street_133500_454000_133600_454100.jpg',\n",
              " 'utrecht-_res_128-trainingdata/street_134500_455000_134600_455100.jpg',\n",
              " 'utrecht-_res_128-trainingdata/none_129200_451700_129300_451800.jpg',\n",
              " 'utrecht-_res_128-trainingdata/street_133400_454500_133500_454600.jpg',\n",
              " 'utrecht-_res_128-trainingdata/street_134400_454100_134500_454200.jpg',\n",
              " 'utrecht-_res_128-trainingdata/street_136400_454800_136500_454900.jpg',\n",
              " 'utrecht-_res_128-trainingdata/street_132700_447700_132800_447800.jpg',\n",
              " 'utrecht-_res_128-trainingdata/street_133200_453500_133300_453600.jpg',\n",
              " 'utrecht-_res_128-trainingdata/street_134400_449300_134500_449400.jpg',\n",
              " 'utrecht-_res_128-trainingdata/street_132000_448800_132100_448900.jpg',\n",
              " 'utrecht-_res_128-trainingdata/none_131000_452100_131100_452200.jpg',\n",
              " 'utrecht-_res_128-trainingdata/none_129600_449100_129700_449200.jpg',\n",
              " 'utrecht-_res_128-trainingdata/none_129900_451300_130000_451400.jpg',\n",
              " 'utrecht-_res_128-trainingdata/none_128700_453800_128800_453900.jpg',\n",
              " 'utrecht-_res_128-trainingdata/street_134800_447800_134900_447900.jpg',\n",
              " 'utrecht-_res_128-trainingdata/street_134100_448700_134200_448800.jpg',\n",
              " 'utrecht-_res_128-trainingdata/street_135600_450300_135700_450400.jpg',\n",
              " 'utrecht-_res_128-trainingdata/street_129700_448600_129800_448700.jpg',\n",
              " 'utrecht-_res_128-trainingdata/street_136100_451000_136200_451100.jpg',\n",
              " 'utrecht-_res_128-trainingdata/none_133000_451900_133100_452000.jpg',\n",
              " 'utrecht-_res_128-trainingdata/street_133200_452400_133300_452500.jpg',\n",
              " 'utrecht-_res_128-trainingdata/street_130000_450400_130100_450500.jpg',\n",
              " 'utrecht-_res_128-trainingdata/street_134500_455800_134600_455900.jpg',\n",
              " 'utrecht-_res_128-trainingdata/none_128200_449200_128300_449300.jpg',\n",
              " 'utrecht-_res_128-trainingdata/none_128100_447800_128200_447900.jpg',\n",
              " 'utrecht-_res_128-trainingdata/street_131300_447300_131400_447400.jpg',\n",
              " 'utrecht-_res_128-trainingdata/street_133700_454700_133800_454800.jpg',\n",
              " 'utrecht-_res_128-trainingdata/street_132900_448300_133000_448400.jpg',\n",
              " 'utrecht-_res_128-trainingdata/none_127800_447300_127900_447400.jpg',\n",
              " 'utrecht-_res_128-trainingdata/none_128400_447900_128500_448000.jpg',\n",
              " 'utrecht-_res_128-trainingdata/street_135900_451900_136000_452000.jpg',\n",
              " 'utrecht-_res_128-trainingdata/none_137300_450400_137400_450500.jpg',\n",
              " 'utrecht-_res_128-trainingdata/none_132400_454000_132500_454100.jpg',\n",
              " 'utrecht-_res_128-trainingdata/street_130000_454500_130100_454600.jpg',\n",
              " 'utrecht-_res_128-trainingdata/street_127700_451800_127800_451900.jpg',\n",
              " 'utrecht-_res_128-trainingdata/street_133800_451200_133900_451300.jpg',\n",
              " 'utrecht-_res_128-trainingdata/street_127500_454700_127600_454800.jpg',\n",
              " 'utrecht-_res_128-trainingdata/street_135900_452700_136000_452800.jpg',\n",
              " 'utrecht-_res_128-trainingdata/street_134600_456300_134700_456400.jpg',\n",
              " 'utrecht-_res_128-trainingdata/street_129300_456700_129400_456800.jpg',\n",
              " 'utrecht-_res_128-trainingdata/street_135400_454900_135500_455000.jpg',\n",
              " 'utrecht-_res_128-trainingdata/none_127500_456300_127600_456400.jpg',\n",
              " 'utrecht-_res_128-trainingdata/street_133600_455600_133700_455700.jpg',\n",
              " 'utrecht-_res_128-trainingdata/none_136000_448400_136100_448500.jpg',\n",
              " 'utrecht-_res_128-trainingdata/street_136200_452500_136300_452600.jpg',\n",
              " 'utrecht-_res_128-trainingdata/street_135700_449400_135800_449500.jpg',\n",
              " 'utrecht-_res_128-trainingdata/street_135600_450200_135700_450300.jpg',\n",
              " 'utrecht-_res_128-trainingdata/none_128100_454100_128200_454200.jpg',\n",
              " 'utrecht-_res_128-trainingdata/none_129700_453100_129800_453200.jpg',\n",
              " 'utrecht-_res_128-trainingdata/street_135400_451400_135500_451500.jpg',\n",
              " 'utrecht-_res_128-trainingdata/street_129300_455100_129400_455200.jpg',\n",
              " 'utrecht-_res_128-trainingdata/none_132000_453200_132100_453300.jpg',\n",
              " 'utrecht-_res_128-trainingdata/none_130900_453400_131000_453500.jpg',\n",
              " 'utrecht-_res_128-trainingdata/street_130500_455000_130600_455100.jpg',\n",
              " 'utrecht-_res_128-trainingdata/none_128300_451200_128400_451300.jpg',\n",
              " 'utrecht-_res_128-trainingdata/none_129100_450000_129200_450100.jpg',\n",
              " 'utrecht-_res_128-trainingdata/street_131400_454100_131500_454200.jpg',\n",
              " 'utrecht-_res_128-trainingdata/none_128500_452300_128600_452400.jpg',\n",
              " 'utrecht-_res_128-trainingdata/street_133500_447500_133600_447600.jpg',\n",
              " 'utrecht-_res_128-trainingdata/none_130800_450600_130900_450700.jpg',\n",
              " 'utrecht-_res_128-trainingdata/street_135700_454700_135800_454800.jpg',\n",
              " 'utrecht-_res_128-trainingdata/street_132500_450400_132600_450500.jpg',\n",
              " 'utrecht-_res_128-trainingdata/street_132800_456200_132900_456300.jpg',\n",
              " 'utrecht-_res_128-trainingdata/street_136500_454500_136600_454600.jpg',\n",
              " 'utrecht-_res_128-trainingdata/none_127400_447500_127500_447600.jpg',\n",
              " 'utrecht-_res_128-trainingdata/none_127900_454400_128000_454500.jpg',\n",
              " 'utrecht-_res_128-trainingdata/none_127400_447200_127500_447300.jpg',\n",
              " 'utrecht-_res_128-trainingdata/none_132700_451400_132800_451500.jpg',\n",
              " 'utrecht-_res_128-trainingdata/none_127600_448400_127700_448500.jpg',\n",
              " 'utrecht-_res_128-trainingdata/none_128800_453500_128900_453600.jpg',\n",
              " 'utrecht-_res_128-trainingdata/street_136200_449000_136300_449100.jpg',\n",
              " 'utrecht-_res_128-trainingdata/none_132100_454000_132200_454100.jpg',\n",
              " 'utrecht-_res_128-trainingdata/street_129900_454800_130000_454900.jpg',\n",
              " 'utrecht-_res_128-trainingdata/street_130400_448000_130500_448100.jpg',\n",
              " 'utrecht-_res_128-trainingdata/street_130300_448700_130400_448800.jpg',\n",
              " 'utrecht-_res_128-trainingdata/street_135200_449100_135300_449200.jpg',\n",
              " 'utrecht-_res_128-trainingdata/street_130700_448000_130800_448100.jpg',\n",
              " 'utrecht-_res_128-trainingdata/none_130800_450700_130900_450800.jpg',\n",
              " 'utrecht-_res_128-trainingdata/street_129500_456300_129600_456400.jpg',\n",
              " 'utrecht-_res_128-trainingdata/none_128000_455500_128100_455600.jpg',\n",
              " 'utrecht-_res_128-trainingdata/street_134900_447000_135000_447100.jpg',\n",
              " 'utrecht-_res_128-trainingdata/street_136000_455300_136100_455400.jpg',\n",
              " 'utrecht-_res_128-trainingdata/street_133500_449100_133600_449200.jpg',\n",
              " 'utrecht-_res_128-trainingdata/none_127800_454200_127900_454300.jpg',\n",
              " 'utrecht-_res_128-trainingdata/none_134000_448000_134100_448100.jpg',\n",
              " 'utrecht-_res_128-trainingdata/none_130800_456300_130900_456400.jpg',\n",
              " 'utrecht-_res_128-trainingdata/none_132600_454600_132700_454700.jpg',\n",
              " 'utrecht-_res_128-trainingdata/street_134800_453900_134900_454000.jpg',\n",
              " 'utrecht-_res_128-trainingdata/street_130200_448500_130300_448600.jpg',\n",
              " 'utrecht-_res_128-trainingdata/street_132300_453300_132400_453400.jpg',\n",
              " 'utrecht-_res_128-trainingdata/none_128200_450800_128300_450900.jpg',\n",
              " 'utrecht-_res_128-trainingdata/street_134000_449700_134100_449800.jpg',\n",
              " 'utrecht-_res_128-trainingdata/street_135600_449200_135700_449300.jpg',\n",
              " 'utrecht-_res_128-trainingdata/street_128900_454700_129000_454800.jpg',\n",
              " 'utrecht-_res_128-trainingdata/none_128600_454300_128700_454400.jpg',\n",
              " 'utrecht-_res_128-trainingdata/street_133100_449900_133200_450000.jpg',\n",
              " 'utrecht-_res_128-trainingdata/street_132800_448600_132900_448700.jpg',\n",
              " 'utrecht-_res_128-trainingdata/street_136400_455000_136500_455100.jpg',\n",
              " 'utrecht-_res_128-trainingdata/street_134700_454500_134800_454600.jpg',\n",
              " 'utrecht-_res_128-trainingdata/street_133300_449400_133400_449500.jpg',\n",
              " 'utrecht-_res_128-trainingdata/street_134100_452000_134200_452100.jpg',\n",
              " 'utrecht-_res_128-trainingdata/none_128700_452400_128800_452500.jpg',\n",
              " 'utrecht-_res_128-trainingdata/street_131600_447800_131700_447900.jpg',\n",
              " 'utrecht-_res_128-trainingdata/street_134500_450100_134600_450200.jpg',\n",
              " 'utrecht-_res_128-trainingdata/none_132500_449100_132600_449200.jpg',\n",
              " 'utrecht-_res_128-trainingdata/none_129100_449800_129200_449900.jpg',\n",
              " 'utrecht-_res_128-trainingdata/street_133100_447800_133200_447900.jpg',\n",
              " 'utrecht-_res_128-trainingdata/none_129900_452600_130000_452700.jpg',\n",
              " 'utrecht-_res_128-trainingdata/street_130700_454800_130800_454900.jpg',\n",
              " 'utrecht-_res_128-trainingdata/street_130700_455000_130800_455100.jpg',\n",
              " 'utrecht-_res_128-trainingdata/street_133300_452800_133400_452900.jpg',\n",
              " 'utrecht-_res_128-trainingdata/none_132600_454700_132700_454800.jpg',\n",
              " 'utrecht-_res_128-trainingdata/none_135600_451800_135700_451900.jpg',\n",
              " 'utrecht-_res_128-trainingdata/street_134300_452700_134400_452800.jpg',\n",
              " 'utrecht-_res_128-trainingdata/none_131800_450500_131900_450600.jpg',\n",
              " 'utrecht-_res_128-trainingdata/street_129700_451300_129800_451400.jpg',\n",
              " 'utrecht-_res_128-trainingdata/street_136200_455800_136300_455900.jpg',\n",
              " 'utrecht-_res_128-trainingdata/street_130200_449100_130300_449200.jpg',\n",
              " 'utrecht-_res_128-trainingdata/none_136400_449200_136500_449300.jpg',\n",
              " 'utrecht-_res_128-trainingdata/street_130900_449900_131000_450000.jpg',\n",
              " 'utrecht-_res_128-trainingdata/street_137000_456200_137100_456300.jpg',\n",
              " 'utrecht-_res_128-trainingdata/street_135700_449600_135800_449700.jpg',\n",
              " 'utrecht-_res_128-trainingdata/none_131600_449900_131700_450000.jpg',\n",
              " 'utrecht-_res_128-trainingdata/street_135700_451600_135800_451700.jpg',\n",
              " 'utrecht-_res_128-trainingdata/none_132400_451400_132500_451500.jpg',\n",
              " 'utrecht-_res_128-trainingdata/street_135500_451000_135600_451100.jpg',\n",
              " 'utrecht-_res_128-trainingdata/none_133100_450000_133200_450100.jpg',\n",
              " 'utrecht-_res_128-trainingdata/none_132300_450200_132400_450300.jpg',\n",
              " 'utrecht-_res_128-trainingdata/none_132400_453600_132500_453700.jpg',\n",
              " 'utrecht-_res_128-trainingdata/street_129800_456700_129900_456800.jpg',\n",
              " 'utrecht-_res_128-trainingdata/street_133600_450400_133700_450500.jpg',\n",
              " 'utrecht-_res_128-trainingdata/street_127900_454600_128000_454700.jpg',\n",
              " 'utrecht-_res_128-trainingdata/street_130400_449100_130500_449200.jpg',\n",
              " 'utrecht-_res_128-trainingdata/street_132700_455300_132800_455400.jpg',\n",
              " 'utrecht-_res_128-trainingdata/none_127600_451000_127700_451100.jpg',\n",
              " 'utrecht-_res_128-trainingdata/street_136900_453800_137000_453900.jpg',\n",
              " 'utrecht-_res_128-trainingdata/none_136300_449000_136400_449100.jpg',\n",
              " 'utrecht-_res_128-trainingdata/street_133600_456600_133700_456700.jpg',\n",
              " 'utrecht-_res_128-trainingdata/street_130900_447100_131000_447200.jpg',\n",
              " 'utrecht-_res_128-trainingdata/street_133100_455600_133200_455700.jpg',\n",
              " 'utrecht-_res_128-trainingdata/none_130000_451600_130100_451700.jpg',\n",
              " 'utrecht-_res_128-trainingdata/none_128700_450400_128800_450500.jpg',\n",
              " 'utrecht-_res_128-trainingdata/none_133100_451600_133200_451700.jpg',\n",
              " 'utrecht-_res_128-trainingdata/street_134600_456500_134700_456600.jpg',\n",
              " 'utrecht-_res_128-trainingdata/street_128600_451400_128700_451500.jpg',\n",
              " 'utrecht-_res_128-trainingdata/street_135400_448500_135500_448600.jpg',\n",
              " 'utrecht-_res_128-trainingdata/street_130500_448800_130600_448900.jpg',\n",
              " 'utrecht-_res_128-trainingdata/street_135500_449300_135600_449400.jpg',\n",
              " 'utrecht-_res_128-trainingdata/street_136500_454600_136600_454700.jpg',\n",
              " 'utrecht-_res_128-trainingdata/street_129700_455000_129800_455100.jpg',\n",
              " 'utrecht-_res_128-trainingdata/none_127600_455600_127700_455700.jpg',\n",
              " 'utrecht-_res_128-trainingdata/none_136800_450100_136900_450200.jpg',\n",
              " 'utrecht-_res_128-trainingdata/none_136700_448400_136800_448500.jpg',\n",
              " 'utrecht-_res_128-trainingdata/street_136200_448800_136300_448900.jpg',\n",
              " 'utrecht-_res_128-trainingdata/none_130100_452800_130200_452900.jpg',\n",
              " 'utrecht-_res_128-trainingdata/street_135100_448000_135200_448100.jpg',\n",
              " 'utrecht-_res_128-trainingdata/street_134500_450500_134600_450600.jpg',\n",
              " 'utrecht-_res_128-trainingdata/none_130000_452800_130100_452900.jpg',\n",
              " 'utrecht-_res_128-trainingdata/street_130700_447700_130800_447800.jpg',\n",
              " 'utrecht-_res_128-trainingdata/street_135300_449200_135400_449300.jpg',\n",
              " 'utrecht-_res_128-trainingdata/none_134300_452300_134400_452400.jpg',\n",
              " 'utrecht-_res_128-trainingdata/street_134300_449800_134400_449900.jpg',\n",
              " 'utrecht-_res_128-trainingdata/street_136100_450200_136200_450300.jpg',\n",
              " 'utrecht-_res_128-trainingdata/street_130700_453800_130800_453900.jpg',\n",
              " 'utrecht-_res_128-trainingdata/none_129500_448200_129600_448300.jpg',\n",
              " 'utrecht-_res_128-trainingdata/none_133600_456100_133700_456200.jpg',\n",
              " 'utrecht-_res_128-trainingdata/street_133200_453800_133300_453900.jpg',\n",
              " 'utrecht-_res_128-trainingdata/street_134300_451700_134400_451800.jpg',\n",
              " 'utrecht-_res_128-trainingdata/none_128100_448600_128200_448700.jpg',\n",
              " 'utrecht-_res_128-trainingdata/none_135000_450800_135100_450900.jpg',\n",
              " 'utrecht-_res_128-trainingdata/street_136300_456100_136400_456200.jpg',\n",
              " 'utrecht-_res_128-trainingdata/street_134300_453000_134400_453100.jpg',\n",
              " 'utrecht-_res_128-trainingdata/none_128300_455000_128400_455100.jpg',\n",
              " 'utrecht-_res_128-trainingdata/street_133400_448600_133500_448700.jpg',\n",
              " 'utrecht-_res_128-trainingdata/street_135200_453800_135300_453900.jpg',\n",
              " 'utrecht-_res_128-trainingdata/street_137200_453100_137300_453200.jpg',\n",
              " 'utrecht-_res_128-trainingdata/street_136100_452600_136200_452700.jpg',\n",
              " 'utrecht-_res_128-trainingdata/none_131100_452000_131200_452100.jpg',\n",
              " 'utrecht-_res_128-trainingdata/street_134700_456700_134800_456800.jpg',\n",
              " 'utrecht-_res_128-trainingdata/street_137200_450600_137300_450700.jpg',\n",
              " 'utrecht-_res_128-trainingdata/street_131100_454900_131200_455000.jpg',\n",
              " 'utrecht-_res_128-trainingdata/street_136400_450400_136500_450500.jpg',\n",
              " 'utrecht-_res_128-trainingdata/street_133100_447600_133200_447700.jpg',\n",
              " 'utrecht-_res_128-trainingdata/street_131000_447000_131100_447100.jpg',\n",
              " 'utrecht-_res_128-trainingdata/street_130000_448200_130100_448300.jpg',\n",
              " 'utrecht-_res_128-trainingdata/street_133000_448600_133100_448700.jpg',\n",
              " 'utrecht-_res_128-trainingdata/street_136100_447800_136200_447900.jpg',\n",
              " 'utrecht-_res_128-trainingdata/street_134000_451100_134100_451200.jpg',\n",
              " 'utrecht-_res_128-trainingdata/none_137000_451000_137100_451100.jpg',\n",
              " 'utrecht-_res_128-trainingdata/street_135300_448200_135400_448300.jpg',\n",
              " 'utrecht-_res_128-trainingdata/none_127800_456300_127900_456400.jpg',\n",
              " 'utrecht-_res_128-trainingdata/none_130200_452100_130300_452200.jpg',\n",
              " 'utrecht-_res_128-trainingdata/street_132300_447100_132400_447200.jpg',\n",
              " 'utrecht-_res_128-trainingdata/none_128100_448800_128200_448900.jpg',\n",
              " 'utrecht-_res_128-trainingdata/none_131100_453500_131200_453600.jpg',\n",
              " 'utrecht-_res_128-trainingdata/street_136000_451600_136100_451700.jpg',\n",
              " 'utrecht-_res_128-trainingdata/street_130500_454700_130600_454800.jpg',\n",
              " 'utrecht-_res_128-trainingdata/street_131400_454900_131500_455000.jpg',\n",
              " 'utrecht-_res_128-trainingdata/street_131800_448500_131900_448600.jpg',\n",
              " 'utrecht-_res_128-trainingdata/none_132400_449100_132500_449200.jpg',\n",
              " 'utrecht-_res_128-trainingdata/none_137100_448400_137200_448500.jpg',\n",
              " 'utrecht-_res_128-trainingdata/none_129000_448900_129100_449000.jpg',\n",
              " 'utrecht-_res_128-trainingdata/street_136500_450700_136600_450800.jpg',\n",
              " 'utrecht-_res_128-trainingdata/none_128200_448900_128300_449000.jpg',\n",
              " 'utrecht-_res_128-trainingdata/none_127400_455100_127500_455200.jpg',\n",
              " 'utrecht-_res_128-trainingdata/street_133000_451400_133100_451500.jpg',\n",
              " 'utrecht-_res_128-trainingdata/none_133000_447100_133100_447200.jpg',\n",
              " 'utrecht-_res_128-trainingdata/street_130600_456900_130700_457000.jpg',\n",
              " 'utrecht-_res_128-trainingdata/street_133800_452200_133900_452300.jpg',\n",
              " 'utrecht-_res_128-trainingdata/none_127500_447300_127600_447400.jpg',\n",
              " 'utrecht-_res_128-trainingdata/street_134300_456400_134400_456500.jpg',\n",
              " 'utrecht-_res_128-trainingdata/none_131400_451700_131500_451800.jpg',\n",
              " 'utrecht-_res_128-trainingdata/none_135600_451900_135700_452000.jpg',\n",
              " 'utrecht-_res_128-trainingdata/street_129300_455000_129400_455100.jpg',\n",
              " 'utrecht-_res_128-trainingdata/street_136800_455500_136900_455600.jpg',\n",
              " 'utrecht-_res_128-trainingdata/street_132600_455800_132700_455900.jpg',\n",
              " 'utrecht-_res_128-trainingdata/street_135400_451700_135500_451800.jpg',\n",
              " 'utrecht-_res_128-trainingdata/none_131300_452600_131400_452700.jpg',\n",
              " 'utrecht-_res_128-trainingdata/none_135700_447200_135800_447300.jpg',\n",
              " 'utrecht-_res_128-trainingdata/street_134500_450900_134600_451000.jpg',\n",
              " 'utrecht-_res_128-trainingdata/none_137000_447400_137100_447500.jpg',\n",
              " 'utrecht-_res_128-trainingdata/none_129600_452100_129700_452200.jpg',\n",
              " 'utrecht-_res_128-trainingdata/none_133700_447000_133800_447100.jpg',\n",
              " 'utrecht-_res_128-trainingdata/street_135400_451000_135500_451100.jpg',\n",
              " 'utrecht-_res_128-trainingdata/none_137300_450500_137400_450600.jpg',\n",
              " 'utrecht-_res_128-trainingdata/street_135900_451800_136000_451900.jpg',\n",
              " 'utrecht-_res_128-trainingdata/street_133000_447600_133100_447700.jpg',\n",
              " 'utrecht-_res_128-trainingdata/none_127400_451100_127500_451200.jpg',\n",
              " 'utrecht-_res_128-trainingdata/street_131600_449500_131700_449600.jpg',\n",
              " 'utrecht-_res_128-trainingdata/none_136700_450300_136800_450400.jpg',\n",
              " 'utrecht-_res_128-trainingdata/street_130100_456700_130200_456800.jpg',\n",
              " 'utrecht-_res_128-trainingdata/none_130200_451400_130300_451500.jpg',\n",
              " 'utrecht-_res_128-trainingdata/street_130600_453700_130700_453800.jpg',\n",
              " 'utrecht-_res_128-trainingdata/none_130100_451100_130200_451200.jpg',\n",
              " 'utrecht-_res_128-trainingdata/street_130400_456300_130500_456400.jpg',\n",
              " 'utrecht-_res_128-trainingdata/street_128000_451200_128100_451300.jpg',\n",
              " 'utrecht-_res_128-trainingdata/street_130100_456000_130200_456100.jpg',\n",
              " 'utrecht-_res_128-trainingdata/street_131400_449400_131500_449500.jpg',\n",
              " 'utrecht-_res_128-trainingdata/none_128100_447300_128200_447400.jpg',\n",
              " 'utrecht-_res_128-trainingdata/none_127900_452700_128000_452800.jpg',\n",
              " 'utrecht-_res_128-trainingdata/street_135100_456900_135200_457000.jpg',\n",
              " 'utrecht-_res_128-trainingdata/street_134800_454700_134900_454800.jpg',\n",
              " 'utrecht-_res_128-trainingdata/street_131500_448600_131600_448700.jpg',\n",
              " 'utrecht-_res_128-trainingdata/street_132600_450400_132700_450500.jpg',\n",
              " 'utrecht-_res_128-trainingdata/none_130100_452900_130200_453000.jpg',\n",
              " 'utrecht-_res_128-trainingdata/none_135300_450500_135400_450600.jpg',\n",
              " 'utrecht-_res_128-trainingdata/none_127900_448700_128000_448800.jpg',\n",
              " 'utrecht-_res_128-trainingdata/none_128500_454200_128600_454300.jpg',\n",
              " 'utrecht-_res_128-trainingdata/street_135900_455200_136000_455300.jpg',\n",
              " 'utrecht-_res_128-trainingdata/none_137100_451000_137200_451100.jpg',\n",
              " 'utrecht-_res_128-trainingdata/none_135800_449800_135900_449900.jpg',\n",
              " 'utrecht-_res_128-trainingdata/none_130200_452800_130300_452900.jpg',\n",
              " 'utrecht-_res_128-trainingdata/street_131400_448400_131500_448500.jpg',\n",
              " 'utrecht-_res_128-trainingdata/street_131400_453500_131500_453600.jpg',\n",
              " 'utrecht-_res_128-trainingdata/street_131700_454400_131800_454500.jpg',\n",
              " 'utrecht-_res_128-trainingdata/street_136100_448900_136200_449000.jpg',\n",
              " 'utrecht-_res_128-trainingdata/none_131700_451900_131800_452000.jpg',\n",
              " 'utrecht-_res_128-trainingdata/street_136600_454600_136700_454700.jpg',\n",
              " 'utrecht-_res_128-trainingdata/none_130000_449800_130100_449900.jpg',\n",
              " 'utrecht-_res_128-trainingdata/street_130100_454800_130200_454900.jpg',\n",
              " 'utrecht-_res_128-trainingdata/street_130000_455900_130100_456000.jpg',\n",
              " 'utrecht-_res_128-trainingdata/street_128700_455900_128800_456000.jpg',\n",
              " 'utrecht-_res_128-trainingdata/street_135200_453700_135300_453800.jpg',\n",
              " 'utrecht-_res_128-trainingdata/none_128300_453100_128400_453200.jpg',\n",
              " 'utrecht-_res_128-trainingdata/street_134300_453700_134400_453800.jpg',\n",
              " 'utrecht-_res_128-trainingdata/street_133300_449300_133400_449400.jpg',\n",
              " 'utrecht-_res_128-trainingdata/street_136000_452900_136100_453000.jpg',\n",
              " 'utrecht-_res_128-trainingdata/street_135200_447900_135300_448000.jpg',\n",
              " 'utrecht-_res_128-trainingdata/none_132400_452300_132500_452400.jpg',\n",
              " 'utrecht-_res_128-trainingdata/street_135400_451200_135500_451300.jpg',\n",
              " 'utrecht-_res_128-trainingdata/street_136600_447800_136700_447900.jpg',\n",
              " 'utrecht-_res_128-trainingdata/none_129400_448100_129500_448200.jpg',\n",
              " 'utrecht-_res_128-trainingdata/street_136600_453300_136700_453400.jpg',\n",
              " 'utrecht-_res_128-trainingdata/street_132000_456900_132100_457000.jpg',\n",
              " 'utrecht-_res_128-trainingdata/street_131600_456500_131700_456600.jpg',\n",
              " 'utrecht-_res_128-trainingdata/street_134400_450900_134500_451000.jpg',\n",
              " 'utrecht-_res_128-trainingdata/street_133300_452200_133400_452300.jpg',\n",
              " 'utrecht-_res_128-trainingdata/none_131200_452700_131300_452800.jpg',\n",
              " 'utrecht-_res_128-trainingdata/street_135000_452800_135100_452900.jpg',\n",
              " 'utrecht-_res_128-trainingdata/street_129000_454900_129100_455000.jpg',\n",
              " 'utrecht-_res_128-trainingdata/street_132900_449200_133000_449300.jpg',\n",
              " 'utrecht-_res_128-trainingdata/street_131500_448900_131600_449000.jpg',\n",
              " 'utrecht-_res_128-trainingdata/street_137000_452800_137100_452900.jpg',\n",
              " 'utrecht-_res_128-trainingdata/none_127500_448900_127600_449000.jpg',\n",
              " 'utrecht-_res_128-trainingdata/street_134600_456200_134700_456300.jpg',\n",
              " 'utrecht-_res_128-trainingdata/none_128300_447900_128400_448000.jpg',\n",
              " 'utrecht-_res_128-trainingdata/none_131100_452200_131200_452300.jpg',\n",
              " 'utrecht-_res_128-trainingdata/street_135100_455800_135200_455900.jpg',\n",
              " 'utrecht-_res_128-trainingdata/none_136500_449400_136600_449500.jpg',\n",
              " 'utrecht-_res_128-trainingdata/street_131700_448600_131800_448700.jpg',\n",
              " 'utrecht-_res_128-trainingdata/none_132400_453700_132500_453800.jpg',\n",
              " 'utrecht-_res_128-trainingdata/street_134400_452000_134500_452100.jpg',\n",
              " 'utrecht-_res_128-trainingdata/none_129700_448500_129800_448600.jpg',\n",
              " 'utrecht-_res_128-trainingdata/none_128700_447700_128800_447800.jpg',\n",
              " 'utrecht-_res_128-trainingdata/street_127600_456500_127700_456600.jpg',\n",
              " 'utrecht-_res_128-trainingdata/street_137000_453100_137100_453200.jpg',\n",
              " 'utrecht-_res_128-trainingdata/none_132600_451200_132700_451300.jpg',\n",
              " 'utrecht-_res_128-trainingdata/street_129800_455000_129900_455100.jpg',\n",
              " 'utrecht-_res_128-trainingdata/street_133900_452600_134000_452700.jpg',\n",
              " 'utrecht-_res_128-trainingdata/none_128900_451000_129000_451100.jpg',\n",
              " 'utrecht-_res_128-trainingdata/street_130000_450800_130100_450900.jpg',\n",
              " 'utrecht-_res_128-trainingdata/none_132700_456800_132800_456900.jpg',\n",
              " 'utrecht-_res_128-trainingdata/street_137200_448500_137300_448600.jpg',\n",
              " 'utrecht-_res_128-trainingdata/none_132500_448500_132600_448600.jpg',\n",
              " 'utrecht-_res_128-trainingdata/street_136200_454200_136300_454300.jpg',\n",
              " 'utrecht-_res_128-trainingdata/none_129800_453300_129900_453400.jpg',\n",
              " 'utrecht-_res_128-trainingdata/none_129500_451300_129600_451400.jpg',\n",
              " 'utrecht-_res_128-trainingdata/none_131300_451600_131400_451700.jpg',\n",
              " 'utrecht-_res_128-trainingdata/street_135300_447400_135400_447500.jpg',\n",
              " 'utrecht-_res_128-trainingdata/street_133300_449600_133400_449700.jpg',\n",
              " 'utrecht-_res_128-trainingdata/street_135200_448500_135300_448600.jpg',\n",
              " 'utrecht-_res_128-trainingdata/street_132300_448400_132400_448500.jpg',\n",
              " 'utrecht-_res_128-trainingdata/none_128000_456400_128100_456500.jpg',\n",
              " 'utrecht-_res_128-trainingdata/street_128300_456300_128400_456400.jpg',\n",
              " 'utrecht-_res_128-trainingdata/street_130200_449800_130300_449900.jpg',\n",
              " 'utrecht-_res_128-trainingdata/street_130100_456100_130200_456200.jpg',\n",
              " 'utrecht-_res_128-trainingdata/street_133900_454800_134000_454900.jpg',\n",
              " 'utrecht-_res_128-trainingdata/none_135800_449200_135900_449300.jpg',\n",
              " 'utrecht-_res_128-trainingdata/street_127400_454400_127500_454500.jpg',\n",
              " 'utrecht-_res_128-trainingdata/none_127400_456800_127500_456900.jpg',\n",
              " 'utrecht-_res_128-trainingdata/none_134200_448200_134300_448300.jpg',\n",
              " 'utrecht-_res_128-trainingdata/street_134600_452800_134700_452900.jpg',\n",
              " 'utrecht-_res_128-trainingdata/none_135300_454500_135400_454600.jpg',\n",
              " 'utrecht-_res_128-trainingdata/street_134200_451200_134300_451300.jpg',\n",
              " 'utrecht-_res_128-trainingdata/none_127800_449200_127900_449300.jpg',\n",
              " 'utrecht-_res_128-trainingdata/none_130200_447800_130300_447900.jpg',\n",
              " 'utrecht-_res_128-trainingdata/street_137000_453300_137100_453400.jpg',\n",
              " 'utrecht-_res_128-trainingdata/street_133800_450900_133900_451000.jpg',\n",
              " 'utrecht-_res_128-trainingdata/street_133100_448800_133200_448900.jpg',\n",
              " 'utrecht-_res_128-trainingdata/street_136600_451700_136700_451800.jpg',\n",
              " 'utrecht-_res_128-trainingdata/street_130800_447500_130900_447600.jpg',\n",
              " 'utrecht-_res_128-trainingdata/none_136200_450700_136300_450800.jpg',\n",
              " 'utrecht-_res_128-trainingdata/street_136200_449500_136300_449600.jpg',\n",
              " 'utrecht-_res_128-trainingdata/none_133500_447300_133600_447400.jpg',\n",
              " 'utrecht-_res_128-trainingdata/street_129900_449800_130000_449900.jpg',\n",
              " 'utrecht-_res_128-trainingdata/street_135800_455500_135900_455600.jpg',\n",
              " 'utrecht-_res_128-trainingdata/street_130000_448500_130100_448600.jpg',\n",
              " 'utrecht-_res_128-trainingdata/none_128200_452700_128300_452800.jpg',\n",
              " 'utrecht-_res_128-trainingdata/street_133000_451000_133100_451100.jpg',\n",
              " 'utrecht-_res_128-trainingdata/none_129700_448400_129800_448500.jpg',\n",
              " 'utrecht-_res_128-trainingdata/street_135900_456100_136000_456200.jpg',\n",
              " 'utrecht-_res_128-trainingdata/none_132400_451700_132500_451800.jpg',\n",
              " 'utrecht-_res_128-trainingdata/street_135300_452000_135400_452100.jpg',\n",
              " 'utrecht-_res_128-trainingdata/street_128100_451800_128200_451900.jpg',\n",
              " 'utrecht-_res_128-trainingdata/none_132100_451900_132200_452000.jpg',\n",
              " 'utrecht-_res_128-trainingdata/none_133200_454300_133300_454400.jpg',\n",
              " 'utrecht-_res_128-trainingdata/street_136600_455200_136700_455300.jpg',\n",
              " 'utrecht-_res_128-trainingdata/street_133700_448500_133800_448600.jpg',\n",
              " 'utrecht-_res_128-trainingdata/street_135700_450400_135800_450500.jpg',\n",
              " 'utrecht-_res_128-trainingdata/street_133000_451700_133100_451800.jpg',\n",
              " 'utrecht-_res_128-trainingdata/street_133700_450900_133800_451000.jpg',\n",
              " 'utrecht-_res_128-trainingdata/none_128500_450000_128600_450100.jpg',\n",
              " 'utrecht-_res_128-trainingdata/street_137200_453500_137300_453600.jpg',\n",
              " 'utrecht-_res_128-trainingdata/street_135000_452900_135100_453000.jpg',\n",
              " 'utrecht-_res_128-trainingdata/none_131700_452200_131800_452300.jpg',\n",
              " 'utrecht-_res_128-trainingdata/street_130900_448000_131000_448100.jpg',\n",
              " 'utrecht-_res_128-trainingdata/none_128300_451000_128400_451100.jpg',\n",
              " 'utrecht-_res_128-trainingdata/none_134400_453700_134500_453800.jpg',\n",
              " 'utrecht-_res_128-trainingdata/street_133700_453700_133800_453800.jpg',\n",
              " 'utrecht-_res_128-trainingdata/street_133800_451900_133900_452000.jpg',\n",
              " 'utrecht-_res_128-trainingdata/street_134300_455700_134400_455800.jpg',\n",
              " 'utrecht-_res_128-trainingdata/street_135400_450000_135500_450100.jpg',\n",
              " 'utrecht-_res_128-trainingdata/none_130300_447000_130400_447100.jpg',\n",
              " 'utrecht-_res_128-trainingdata/none_132400_451300_132500_451400.jpg',\n",
              " 'utrecht-_res_128-trainingdata/street_131200_455100_131300_455200.jpg',\n",
              " 'utrecht-_res_128-trainingdata/street_135500_448300_135600_448400.jpg',\n",
              " 'utrecht-_res_128-trainingdata/street_134200_453100_134300_453200.jpg',\n",
              " 'utrecht-_res_128-trainingdata/street_133300_447100_133400_447200.jpg',\n",
              " 'utrecht-_res_128-trainingdata/street_130100_456300_130200_456400.jpg',\n",
              " 'utrecht-_res_128-trainingdata/none_132500_449200_132600_449300.jpg',\n",
              " 'utrecht-_res_128-trainingdata/none_127400_448600_127500_448700.jpg',\n",
              " 'utrecht-_res_128-trainingdata/street_136600_448600_136700_448700.jpg',\n",
              " 'utrecht-_res_128-trainingdata/none_136000_447100_136100_447200.jpg',\n",
              " 'utrecht-_res_128-trainingdata/none_132800_456900_132900_457000.jpg',\n",
              " 'utrecht-_res_128-trainingdata/street_132500_448000_132600_448100.jpg',\n",
              " 'utrecht-_res_128-trainingdata/street_130400_454600_130500_454700.jpg',\n",
              " 'utrecht-_res_128-trainingdata/none_137100_449700_137200_449800.jpg',\n",
              " 'utrecht-_res_128-trainingdata/street_133800_448600_133900_448700.jpg',\n",
              " 'utrecht-_res_128-trainingdata/street_134800_451000_134900_451100.jpg',\n",
              " 'utrecht-_res_128-trainingdata/none_131300_455400_131400_455500.jpg',\n",
              " 'utrecht-_res_128-trainingdata/street_129100_454600_129200_454700.jpg',\n",
              " 'utrecht-_res_128-trainingdata/street_127500_454400_127600_454500.jpg',\n",
              " 'utrecht-_res_128-trainingdata/street_136900_449600_137000_449700.jpg',\n",
              " 'utrecht-_res_128-trainingdata/street_136500_453500_136600_453600.jpg',\n",
              " 'utrecht-_res_128-trainingdata/street_134600_450700_134700_450800.jpg',\n",
              " 'utrecht-_res_128-trainingdata/street_135400_451900_135500_452000.jpg',\n",
              " 'utrecht-_res_128-trainingdata/none_134400_452400_134500_452500.jpg',\n",
              " 'utrecht-_res_128-trainingdata/street_129600_456400_129700_456500.jpg',\n",
              " 'utrecht-_res_128-trainingdata/street_132000_448000_132100_448100.jpg',\n",
              " 'utrecht-_res_128-trainingdata/street_131000_456900_131100_457000.jpg',\n",
              " 'utrecht-_res_128-trainingdata/street_132500_455300_132600_455400.jpg',\n",
              " 'utrecht-_res_128-trainingdata/none_130800_449300_130900_449400.jpg',\n",
              " 'utrecht-_res_128-trainingdata/street_136700_456600_136800_456700.jpg',\n",
              " 'utrecht-_res_128-trainingdata/street_135100_452100_135200_452200.jpg',\n",
              " 'utrecht-_res_128-trainingdata/street_135300_453000_135400_453100.jpg',\n",
              " 'utrecht-_res_128-trainingdata/none_137000_450500_137100_450600.jpg',\n",
              " 'utrecht-_res_128-trainingdata/street_137000_450000_137100_450100.jpg',\n",
              " 'utrecht-_res_128-trainingdata/street_136400_456100_136500_456200.jpg',\n",
              " 'utrecht-_res_128-trainingdata/street_134500_451100_134600_451200.jpg',\n",
              " 'utrecht-_res_128-trainingdata/none_136200_451000_136300_451100.jpg',\n",
              " 'utrecht-_res_128-trainingdata/street_128300_456400_128400_456500.jpg',\n",
              " 'utrecht-_res_128-trainingdata/street_135200_456900_135300_457000.jpg',\n",
              " 'utrecht-_res_128-trainingdata/street_131900_453900_132000_454000.jpg',\n",
              " 'utrecht-_res_128-trainingdata/none_133600_455900_133700_456000.jpg',\n",
              " 'utrecht-_res_128-trainingdata/none_127900_453100_128000_453200.jpg',\n",
              " 'utrecht-_res_128-trainingdata/none_131500_453400_131600_453500.jpg',\n",
              " 'utrecht-_res_128-trainingdata/street_135600_452400_135700_452500.jpg',\n",
              " 'utrecht-_res_128-trainingdata/street_137200_448100_137300_448200.jpg',\n",
              " 'utrecht-_res_128-trainingdata/none_128600_449800_128700_449900.jpg',\n",
              " 'utrecht-_res_128-trainingdata/street_136100_451200_136200_451300.jpg',\n",
              " 'utrecht-_res_128-trainingdata/street_127500_452100_127600_452200.jpg',\n",
              " 'utrecht-_res_128-trainingdata/street_130800_453700_130900_453800.jpg',\n",
              " 'utrecht-_res_128-trainingdata/street_128900_455100_129000_455200.jpg',\n",
              " 'utrecht-_res_128-trainingdata/street_130200_453300_130300_453400.jpg',\n",
              " 'utrecht-_res_128-trainingdata/street_130600_456600_130700_456700.jpg',\n",
              " 'utrecht-_res_128-trainingdata/street_136300_453900_136400_454000.jpg',\n",
              " 'utrecht-_res_128-trainingdata/street_135300_454900_135400_455000.jpg',\n",
              " 'utrecht-_res_128-trainingdata/street_129100_455800_129200_455900.jpg',\n",
              " 'utrecht-_res_128-trainingdata/street_133300_452900_133400_453000.jpg',\n",
              " 'utrecht-_res_128-trainingdata/none_128600_448000_128700_448100.jpg',\n",
              " 'utrecht-_res_128-trainingdata/street_135000_447400_135100_447500.jpg',\n",
              " 'utrecht-_res_128-trainingdata/none_130800_455100_130900_455200.jpg',\n",
              " 'utrecht-_res_128-trainingdata/street_135600_451400_135700_451500.jpg',\n",
              " 'utrecht-_res_128-trainingdata/none_128100_454000_128200_454100.jpg',\n",
              " 'utrecht-_res_128-trainingdata/none_127600_448600_127700_448700.jpg',\n",
              " 'utrecht-_res_128-trainingdata/none_129700_450100_129800_450200.jpg',\n",
              " 'utrecht-_res_128-trainingdata/none_129700_452600_129800_452700.jpg',\n",
              " 'utrecht-_res_128-trainingdata/street_132100_456700_132200_456800.jpg',\n",
              " 'utrecht-_res_128-trainingdata/street_129700_456600_129800_456700.jpg',\n",
              " 'utrecht-_res_128-trainingdata/street_131500_447000_131600_447100.jpg',\n",
              " 'utrecht-_res_128-trainingdata/none_133900_447400_134000_447500.jpg',\n",
              " 'utrecht-_res_128-trainingdata/street_136900_451500_137000_451600.jpg',\n",
              " 'utrecht-_res_128-trainingdata/street_132900_448000_133000_448100.jpg',\n",
              " 'utrecht-_res_128-trainingdata/street_131800_450800_131900_450900.jpg',\n",
              " 'utrecht-_res_128-trainingdata/street_130100_454000_130200_454100.jpg',\n",
              " 'utrecht-_res_128-trainingdata/street_131400_456100_131500_456200.jpg',\n",
              " 'utrecht-_res_128-trainingdata/street_134000_447300_134100_447400.jpg',\n",
              " 'utrecht-_res_128-trainingdata/street_131400_447200_131500_447300.jpg',\n",
              " 'utrecht-_res_128-trainingdata/street_133900_453200_134000_453300.jpg',\n",
              " 'utrecht-_res_128-trainingdata/street_132100_447400_132200_447500.jpg',\n",
              " 'utrecht-_res_128-trainingdata/street_132600_456100_132700_456200.jpg',\n",
              " 'utrecht-_res_128-trainingdata/street_135900_453200_136000_453300.jpg',\n",
              " 'utrecht-_res_128-trainingdata/street_136500_455400_136600_455500.jpg',\n",
              " 'utrecht-_res_128-trainingdata/street_137200_454600_137300_454700.jpg',\n",
              " 'utrecht-_res_128-trainingdata/street_131500_450900_131600_451000.jpg',\n",
              " 'utrecht-_res_128-trainingdata/street_133400_452000_133500_452100.jpg',\n",
              " 'utrecht-_res_128-trainingdata/street_137300_448300_137400_448400.jpg',\n",
              " 'utrecht-_res_128-trainingdata/none_131600_451800_131700_451900.jpg',\n",
              " 'utrecht-_res_128-trainingdata/street_136500_448400_136600_448500.jpg',\n",
              " 'utrecht-_res_128-trainingdata/street_136400_456200_136500_456300.jpg',\n",
              " 'utrecht-_res_128-trainingdata/street_131100_449400_131200_449500.jpg',\n",
              " 'utrecht-_res_128-trainingdata/street_129800_454600_129900_454700.jpg',\n",
              " 'utrecht-_res_128-trainingdata/street_130300_450600_130400_450700.jpg',\n",
              " 'utrecht-_res_128-trainingdata/street_131300_448300_131400_448400.jpg',\n",
              " 'utrecht-_res_128-trainingdata/street_134700_453900_134800_454000.jpg',\n",
              " 'utrecht-_res_128-trainingdata/street_131900_456500_132000_456600.jpg',\n",
              " 'utrecht-_res_128-trainingdata/street_130700_449200_130800_449300.jpg',\n",
              " 'utrecht-_res_128-trainingdata/street_133000_447700_133100_447800.jpg',\n",
              " 'utrecht-_res_128-trainingdata/none_130300_450800_130400_450900.jpg',\n",
              " 'utrecht-_res_128-trainingdata/none_131900_452800_132000_452900.jpg',\n",
              " 'utrecht-_res_128-trainingdata/street_129100_456200_129200_456300.jpg',\n",
              " 'utrecht-_res_128-trainingdata/street_133600_456500_133700_456600.jpg',\n",
              " 'utrecht-_res_128-trainingdata/street_136700_452000_136800_452100.jpg',\n",
              " 'utrecht-_res_128-trainingdata/none_134400_452700_134500_452800.jpg',\n",
              " 'utrecht-_res_128-trainingdata/none_133000_454700_133100_454800.jpg',\n",
              " 'utrecht-_res_128-trainingdata/street_129600_456000_129700_456100.jpg',\n",
              " 'utrecht-_res_128-trainingdata/street_131100_448500_131200_448600.jpg',\n",
              " 'utrecht-_res_128-trainingdata/street_133200_448700_133300_448800.jpg',\n",
              " 'utrecht-_res_128-trainingdata/none_134400_448300_134500_448400.jpg',\n",
              " 'utrecht-_res_128-trainingdata/none_132500_448900_132600_449000.jpg',\n",
              " 'utrecht-_res_128-trainingdata/none_127600_452400_127700_452500.jpg',\n",
              " 'utrecht-_res_128-trainingdata/none_130900_450900_131000_451000.jpg',\n",
              " 'utrecht-_res_128-trainingdata/street_134200_451800_134300_451900.jpg',\n",
              " 'utrecht-_res_128-trainingdata/street_133800_449700_133900_449800.jpg',\n",
              " 'utrecht-_res_128-trainingdata/none_128800_453200_128900_453300.jpg',\n",
              " 'utrecht-_res_128-trainingdata/street_135800_456200_135900_456300.jpg',\n",
              " 'utrecht-_res_128-trainingdata/none_128500_450300_128600_450400.jpg',\n",
              " 'utrecht-_res_128-trainingdata/none_130200_449500_130300_449600.jpg',\n",
              " 'utrecht-_res_128-trainingdata/none_130000_448900_130100_449000.jpg',\n",
              " 'utrecht-_res_128-trainingdata/street_132500_454700_132600_454800.jpg',\n",
              " 'utrecht-_res_128-trainingdata/street_135900_447400_136000_447500.jpg',\n",
              " 'utrecht-_res_128-trainingdata/street_135500_451900_135600_452000.jpg',\n",
              " 'utrecht-_res_128-trainingdata/none_129400_451600_129500_451700.jpg',\n",
              " 'utrecht-_res_128-trainingdata/street_129400_454200_129500_454300.jpg',\n",
              " 'utrecht-_res_128-trainingdata/none_133200_447500_133300_447600.jpg',\n",
              " 'utrecht-_res_128-trainingdata/street_131600_447600_131700_447700.jpg',\n",
              " 'utrecht-_res_128-trainingdata/street_133000_453000_133100_453100.jpg',\n",
              " 'utrecht-_res_128-trainingdata/street_133600_454900_133700_455000.jpg',\n",
              " 'utrecht-_res_128-trainingdata/street_136300_456500_136400_456600.jpg',\n",
              " 'utrecht-_res_128-trainingdata/street_132000_448900_132100_449000.jpg',\n",
              " 'utrecht-_res_128-trainingdata/none_132400_452800_132500_452900.jpg',\n",
              " 'utrecht-_res_128-trainingdata/street_131100_447900_131200_448000.jpg',\n",
              " 'utrecht-_res_128-trainingdata/street_136000_447000_136100_447100.jpg',\n",
              " 'utrecht-_res_128-trainingdata/none_129200_450600_129300_450700.jpg',\n",
              " 'utrecht-_res_128-trainingdata/street_129000_455500_129100_455600.jpg',\n",
              " 'utrecht-_res_128-trainingdata/none_128800_453100_128900_453200.jpg',\n",
              " 'utrecht-_res_128-trainingdata/street_136900_451700_137000_451800.jpg',\n",
              " 'utrecht-_res_128-trainingdata/none_136400_448900_136500_449000.jpg',\n",
              " 'utrecht-_res_128-trainingdata/street_132600_448600_132700_448700.jpg',\n",
              " 'utrecht-_res_128-trainingdata/street_135900_454400_136000_454500.jpg',\n",
              " 'utrecht-_res_128-trainingdata/none_129200_453800_129300_453900.jpg',\n",
              " 'utrecht-_res_128-trainingdata/none_129600_452300_129700_452400.jpg',\n",
              " 'utrecht-_res_128-trainingdata/none_128300_453300_128400_453400.jpg',\n",
              " 'utrecht-_res_128-trainingdata/none_128200_448400_128300_448500.jpg',\n",
              " 'utrecht-_res_128-trainingdata/none_132100_454700_132200_454800.jpg',\n",
              " 'utrecht-_res_128-trainingdata/none_129500_451100_129600_451200.jpg',\n",
              " 'utrecht-_res_128-trainingdata/none_131400_451200_131500_451300.jpg',\n",
              " 'utrecht-_res_128-trainingdata/street_134800_452800_134900_452900.jpg',\n",
              " 'utrecht-_res_128-trainingdata/street_134000_455500_134100_455600.jpg',\n",
              " 'utrecht-_res_128-trainingdata/street_133600_447700_133700_447800.jpg',\n",
              " 'utrecht-_res_128-trainingdata/street_135100_452900_135200_453000.jpg',\n",
              " 'utrecht-_res_128-trainingdata/street_133800_449200_133900_449300.jpg',\n",
              " 'utrecht-_res_128-trainingdata/none_131100_449800_131200_449900.jpg',\n",
              " 'utrecht-_res_128-trainingdata/street_136200_453200_136300_453300.jpg',\n",
              " 'utrecht-_res_128-trainingdata/none_128500_452100_128600_452200.jpg',\n",
              " 'utrecht-_res_128-trainingdata/none_136200_450400_136300_450500.jpg',\n",
              " 'utrecht-_res_128-trainingdata/none_136600_448200_136700_448300.jpg',\n",
              " 'utrecht-_res_128-trainingdata/none_131300_450200_131400_450300.jpg',\n",
              " 'utrecht-_res_128-trainingdata/street_136700_454700_136800_454800.jpg',\n",
              " 'utrecht-_res_128-trainingdata/street_133200_456700_133300_456800.jpg',\n",
              " 'utrecht-_res_128-trainingdata/none_137200_454200_137300_454300.jpg',\n",
              " 'utrecht-_res_128-trainingdata/none_133400_447000_133500_447100.jpg',\n",
              " 'utrecht-_res_128-trainingdata/street_127400_452100_127500_452200.jpg',\n",
              " 'utrecht-_res_128-trainingdata/street_131700_456500_131800_456600.jpg',\n",
              " 'utrecht-_res_128-trainingdata/street_137100_448600_137200_448700.jpg',\n",
              " 'utrecht-_res_128-trainingdata/street_134200_450200_134300_450300.jpg',\n",
              " 'utrecht-_res_128-trainingdata/none_130100_451900_130200_452000.jpg',\n",
              " 'utrecht-_res_128-trainingdata/none_135500_450900_135600_451000.jpg',\n",
              " 'utrecht-_res_128-trainingdata/none_131200_450700_131300_450800.jpg',\n",
              " 'utrecht-_res_128-trainingdata/none_128600_453200_128700_453300.jpg',\n",
              " 'utrecht-_res_128-trainingdata/street_131900_447600_132000_447700.jpg',\n",
              " 'utrecht-_res_128-trainingdata/street_135600_454200_135700_454300.jpg',\n",
              " 'utrecht-_res_128-trainingdata/none_133400_454800_133500_454900.jpg',\n",
              " 'utrecht-_res_128-trainingdata/street_130300_453600_130400_453700.jpg',\n",
              " 'utrecht-_res_128-trainingdata/none_131500_452100_131600_452200.jpg',\n",
              " 'utrecht-_res_128-trainingdata/none_129100_451100_129200_451200.jpg',\n",
              " 'utrecht-_res_128-trainingdata/none_127400_456500_127500_456600.jpg',\n",
              " 'utrecht-_res_128-trainingdata/street_129200_456000_129300_456100.jpg',\n",
              " 'utrecht-_res_128-trainingdata/none_129600_453700_129700_453800.jpg',\n",
              " 'utrecht-_res_128-trainingdata/none_136000_452700_136100_452800.jpg',\n",
              " 'utrecht-_res_128-trainingdata/street_128300_449700_128400_449800.jpg',\n",
              " 'utrecht-_res_128-trainingdata/street_136800_454600_136900_454700.jpg',\n",
              " 'utrecht-_res_128-trainingdata/none_137100_448300_137200_448400.jpg',\n",
              " 'utrecht-_res_128-trainingdata/street_131600_449300_131700_449400.jpg',\n",
              " 'utrecht-_res_128-trainingdata/street_130700_451500_130800_451600.jpg',\n",
              " 'utrecht-_res_128-trainingdata/street_132800_447000_132900_447100.jpg',\n",
              " 'utrecht-_res_128-trainingdata/street_134500_448100_134600_448200.jpg',\n",
              " 'utrecht-_res_128-trainingdata/none_128200_453800_128300_453900.jpg',\n",
              " 'utrecht-_res_128-trainingdata/street_134800_454500_134900_454600.jpg',\n",
              " 'utrecht-_res_128-trainingdata/street_131500_448500_131600_448600.jpg',\n",
              " 'utrecht-_res_128-trainingdata/street_135800_449300_135900_449400.jpg',\n",
              " 'utrecht-_res_128-trainingdata/street_130700_456800_130800_456900.jpg',\n",
              " 'utrecht-_res_128-trainingdata/none_128000_449900_128100_450000.jpg',\n",
              " 'utrecht-_res_128-trainingdata/none_135900_448100_136000_448200.jpg',\n",
              " 'utrecht-_res_128-trainingdata/street_136500_453300_136600_453400.jpg',\n",
              " 'utrecht-_res_128-trainingdata/street_131300_448000_131400_448100.jpg',\n",
              " 'utrecht-_res_128-trainingdata/street_132700_447200_132800_447300.jpg',\n",
              " 'utrecht-_res_128-trainingdata/street_134600_455000_134700_455100.jpg',\n",
              " 'utrecht-_res_128-trainingdata/none_131500_449900_131600_450000.jpg',\n",
              " 'utrecht-_res_128-trainingdata/street_130500_448300_130600_448400.jpg',\n",
              " 'utrecht-_res_128-trainingdata/none_128000_452300_128100_452400.jpg',\n",
              " 'utrecht-_res_128-trainingdata/street_133800_450700_133900_450800.jpg',\n",
              " 'utrecht-_res_128-trainingdata/street_135400_447400_135500_447500.jpg',\n",
              " 'utrecht-_res_128-trainingdata/street_129300_454600_129400_454700.jpg',\n",
              " 'utrecht-_res_128-trainingdata/street_136900_451400_137000_451500.jpg',\n",
              " 'utrecht-_res_128-trainingdata/street_137000_447800_137100_447900.jpg',\n",
              " 'utrecht-_res_128-trainingdata/street_135300_455700_135400_455800.jpg',\n",
              " 'utrecht-_res_128-trainingdata/street_135800_451000_135900_451100.jpg',\n",
              " 'utrecht-_res_128-trainingdata/none_132400_448500_132500_448600.jpg',\n",
              " 'utrecht-_res_128-trainingdata/none_134100_448000_134200_448100.jpg',\n",
              " 'utrecht-_res_128-trainingdata/street_137300_448400_137400_448500.jpg',\n",
              " 'utrecht-_res_128-trainingdata/street_132100_448000_132200_448100.jpg',\n",
              " 'utrecht-_res_128-trainingdata/none_137300_452000_137400_452100.jpg',\n",
              " 'utrecht-_res_128-trainingdata/none_130200_451500_130300_451600.jpg',\n",
              " 'utrecht-_res_128-trainingdata/street_136100_451400_136200_451500.jpg',\n",
              " 'utrecht-_res_128-trainingdata/street_129900_449900_130000_450000.jpg',\n",
              " 'utrecht-_res_128-trainingdata/none_136300_450500_136400_450600.jpg',\n",
              " 'utrecht-_res_128-trainingdata/none_135100_449800_135200_449900.jpg',\n",
              " 'utrecht-_res_128-trainingdata/street_131800_448700_131900_448800.jpg',\n",
              " 'utrecht-_res_128-trainingdata/street_136600_451400_136700_451500.jpg',\n",
              " 'utrecht-_res_128-trainingdata/street_133400_452700_133500_452800.jpg',\n",
              " 'utrecht-_res_128-trainingdata/street_128900_455600_129000_455700.jpg',\n",
              " 'utrecht-_res_128-trainingdata/street_135200_448600_135300_448700.jpg',\n",
              " 'utrecht-_res_128-trainingdata/street_127600_454400_127700_454500.jpg',\n",
              " 'utrecht-_res_128-trainingdata/none_130900_449700_131000_449800.jpg',\n",
              " 'utrecht-_res_128-trainingdata/none_134400_447200_134500_447300.jpg',\n",
              " 'utrecht-_res_128-trainingdata/street_134900_447100_135000_447200.jpg',\n",
              " 'utrecht-_res_128-trainingdata/none_130000_450700_130100_450800.jpg',\n",
              " 'utrecht-_res_128-trainingdata/none_127800_456800_127900_456900.jpg',\n",
              " 'utrecht-_res_128-trainingdata/street_135600_447500_135700_447600.jpg',\n",
              " 'utrecht-_res_128-trainingdata/street_133200_451600_133300_451700.jpg',\n",
              " 'utrecht-_res_128-trainingdata/street_130800_454100_130900_454200.jpg',\n",
              " 'utrecht-_res_128-trainingdata/none_127800_450300_127900_450400.jpg',\n",
              " 'utrecht-_res_128-trainingdata/none_130800_452900_130900_453000.jpg',\n",
              " 'utrecht-_res_128-trainingdata/street_130100_447300_130200_447400.jpg',\n",
              " 'utrecht-_res_128-trainingdata/street_132200_455100_132300_455200.jpg',\n",
              " 'utrecht-_res_128-trainingdata/none_128600_449100_128700_449200.jpg',\n",
              " 'utrecht-_res_128-trainingdata/street_130200_455000_130300_455100.jpg',\n",
              " 'utrecht-_res_128-trainingdata/street_134200_452900_134300_453000.jpg',\n",
              " 'utrecht-_res_128-trainingdata/street_130700_452400_130800_452500.jpg',\n",
              " 'utrecht-_res_128-trainingdata/street_130700_455600_130800_455700.jpg',\n",
              " 'utrecht-_res_128-trainingdata/none_129000_449500_129100_449600.jpg',\n",
              " 'utrecht-_res_128-trainingdata/street_131200_449000_131300_449100.jpg',\n",
              " 'utrecht-_res_128-trainingdata/none_130200_453200_130300_453300.jpg',\n",
              " 'utrecht-_res_128-trainingdata/street_136900_453000_137000_453100.jpg',\n",
              " 'utrecht-_res_128-trainingdata/none_128000_449400_128100_449500.jpg',\n",
              " 'utrecht-_res_128-trainingdata/none_131300_453400_131400_453500.jpg',\n",
              " 'utrecht-_res_128-trainingdata/street_130700_454600_130800_454700.jpg',\n",
              " 'utrecht-_res_128-trainingdata/street_136000_455800_136100_455900.jpg',\n",
              " 'utrecht-_res_128-trainingdata/street_133800_453500_133900_453600.jpg',\n",
              " 'utrecht-_res_128-trainingdata/none_136500_447700_136600_447800.jpg',\n",
              " 'utrecht-_res_128-trainingdata/street_133000_454900_133100_455000.jpg',\n",
              " 'utrecht-_res_128-trainingdata/none_132800_454700_132900_454800.jpg',\n",
              " 'utrecht-_res_128-trainingdata/street_131700_456900_131800_457000.jpg',\n",
              " 'utrecht-_res_128-trainingdata/street_131500_455300_131600_455400.jpg',\n",
              " 'utrecht-_res_128-trainingdata/street_135900_454800_136000_454900.jpg',\n",
              " 'utrecht-_res_128-trainingdata/street_137300_456400_137400_456500.jpg',\n",
              " 'utrecht-_res_128-trainingdata/street_134000_455400_134100_455500.jpg',\n",
              " 'utrecht-_res_128-trainingdata/street_134200_452100_134300_452200.jpg',\n",
              " 'utrecht-_res_128-trainingdata/street_134600_451000_134700_451100.jpg',\n",
              " 'utrecht-_res_128-trainingdata/none_130300_451000_130400_451100.jpg',\n",
              " 'utrecht-_res_128-trainingdata/street_129900_450900_130000_451000.jpg',\n",
              " 'utrecht-_res_128-trainingdata/street_132500_455100_132600_455200.jpg',\n",
              " 'utrecht-_res_128-trainingdata/none_129900_451500_130000_451600.jpg',\n",
              " 'utrecht-_res_128-trainingdata/street_133600_447600_133700_447700.jpg',\n",
              " 'utrecht-_res_128-trainingdata/street_133500_448700_133600_448800.jpg',\n",
              " 'utrecht-_res_128-trainingdata/street_130500_449000_130600_449100.jpg',\n",
              " 'utrecht-_res_128-trainingdata/street_135000_449400_135100_449500.jpg',\n",
              " 'utrecht-_res_128-trainingdata/street_131600_449000_131700_449100.jpg',\n",
              " 'utrecht-_res_128-trainingdata/none_128400_449600_128500_449700.jpg',\n",
              " 'utrecht-_res_128-trainingdata/street_136700_448500_136800_448600.jpg',\n",
              " 'utrecht-_res_128-trainingdata/none_128900_449500_129000_449600.jpg',\n",
              " 'utrecht-_res_128-trainingdata/street_131800_447100_131900_447200.jpg',\n",
              " 'utrecht-_res_128-trainingdata/none_136900_448700_137000_448800.jpg',\n",
              " 'utrecht-_res_128-trainingdata/none_130700_452000_130800_452100.jpg',\n",
              " 'utrecht-_res_128-trainingdata/street_130500_451700_130600_451800.jpg',\n",
              " 'utrecht-_res_128-trainingdata/street_136600_456400_136700_456500.jpg',\n",
              " 'utrecht-_res_128-trainingdata/street_137100_454400_137200_454500.jpg',\n",
              " 'utrecht-_res_128-trainingdata/street_136800_452700_136900_452800.jpg',\n",
              " 'utrecht-_res_128-trainingdata/none_128200_448800_128300_448900.jpg',\n",
              " 'utrecht-_res_128-trainingdata/street_131600_454500_131700_454600.jpg',\n",
              " 'utrecht-_res_128-trainingdata/none_127700_448200_127800_448300.jpg',\n",
              " 'utrecht-_res_128-trainingdata/none_130400_456900_130500_457000.jpg',\n",
              " 'utrecht-_res_128-trainingdata/none_129200_453900_129300_454000.jpg',\n",
              " 'utrecht-_res_128-trainingdata/none_127700_453900_127800_454000.jpg',\n",
              " 'utrecht-_res_128-trainingdata/street_131700_455400_131800_455500.jpg',\n",
              " 'utrecht-_res_128-trainingdata/none_127600_450900_127700_451000.jpg',\n",
              " 'utrecht-_res_128-trainingdata/none_135400_447700_135500_447800.jpg',\n",
              " 'utrecht-_res_128-trainingdata/none_129200_453500_129300_453600.jpg',\n",
              " 'utrecht-_res_128-trainingdata/none_130500_453600_130600_453700.jpg',\n",
              " 'utrecht-_res_128-trainingdata/none_130200_452500_130300_452600.jpg',\n",
              " 'utrecht-_res_128-trainingdata/street_133000_455000_133100_455100.jpg',\n",
              " 'utrecht-_res_128-trainingdata/street_132400_453500_132500_453600.jpg',\n",
              " 'utrecht-_res_128-trainingdata/street_130600_455100_130700_455200.jpg',\n",
              " 'utrecht-_res_128-trainingdata/none_130400_453200_130500_453300.jpg',\n",
              " 'utrecht-_res_128-trainingdata/none_127500_447000_127600_447100.jpg',\n",
              " 'utrecht-_res_128-trainingdata/street_133300_448500_133400_448600.jpg',\n",
              " 'utrecht-_res_128-trainingdata/none_131600_450700_131700_450800.jpg',\n",
              " 'utrecht-_res_128-trainingdata/street_129000_454300_129100_454400.jpg',\n",
              " 'utrecht-_res_128-trainingdata/street_134700_452900_134800_453000.jpg',\n",
              " 'utrecht-_res_128-trainingdata/street_128300_451100_128400_451200.jpg',\n",
              " 'utrecht-_res_128-trainingdata/street_137300_454800_137400_454900.jpg',\n",
              " 'utrecht-_res_128-trainingdata/none_131200_452300_131300_452400.jpg',\n",
              " 'utrecht-_res_128-trainingdata/street_134800_456000_134900_456100.jpg',\n",
              " 'utrecht-_res_128-trainingdata/none_134200_447200_134300_447300.jpg',\n",
              " 'utrecht-_res_128-trainingdata/street_136800_453400_136900_453500.jpg',\n",
              " 'utrecht-_res_128-trainingdata/none_129300_448700_129400_448800.jpg',\n",
              " 'utrecht-_res_128-trainingdata/street_132800_448700_132900_448800.jpg',\n",
              " 'utrecht-_res_128-trainingdata/street_129200_454600_129300_454700.jpg',\n",
              " 'utrecht-_res_128-trainingdata/street_130900_454500_131000_454600.jpg',\n",
              " 'utrecht-_res_128-trainingdata/none_128900_453100_129000_453200.jpg',\n",
              " ...]"
            ]
          },
          "execution_count": 10,
          "metadata": {},
          "output_type": "execute_result"
        }
      ],
      "source": [
        "# make a list of all files\n",
        "imageList = list()\n",
        "for (root, name, files) in os.walk(dataset):\n",
        "    imageList += [os.path.join(root, file) for file in files]"
      ]
    },
    {
      "cell_type": "markdown",
      "metadata": {
        "id": "GIaaqGAUd4P8"
      },
      "source": [
        "Randomize list"
      ]
    },
    {
      "cell_type": "code",
      "execution_count": 11,
      "metadata": {
        "id": "vqlkw44uvvbE"
      },
      "outputs": [],
      "source": [
        "random.shuffle(imageList)"
      ]
    },
    {
      "cell_type": "markdown",
      "metadata": {
        "id": "7RXbFHbUF5nv"
      },
      "source": [
        "Moving the files to the corresponding training, validation and test folders"
      ]
    },
    {
      "cell_type": "code",
      "execution_count": 12,
      "metadata": {
        "id": "jXhdqww0XE1l"
      },
      "outputs": [],
      "source": [
        "# make lists of images according to their class\n",
        "streetImages=list()\n",
        "noneImages=list()\n",
        "\n",
        "for img in imageList:\n",
        "    filename = os.path.basename(img)\n",
        "    class_name,_ = filename.split('_',1)\n",
        "    if class_name == 'street':\n",
        "        streetImages.append(img)\n",
        "    else:\n",
        "        noneImages.append(img)"
      ]
    },
    {
      "cell_type": "code",
      "execution_count": 13,
      "metadata": {
        "id": "Mx8cK7MOb7Vd"
      },
      "outputs": [],
      "source": [
        "# define train, valid, test split as 70:20:10 for none_street tiles\n",
        "trainImages_none = int(len(noneImages) * 0.6)\n",
        "validImages_none = int(len(noneImages) * 0.3)\n",
        "testImages_none = int(len(noneImages) * 0.1)\n"
      ]
    },
    {
      "cell_type": "code",
      "execution_count": 14,
      "metadata": {
        "id": "aLM9bfgO4BJO"
      },
      "outputs": [],
      "source": [
        "# define train, valid, test split as 70:20:10 for street tiles\n",
        "trainImages_street = int(len(streetImages) * 0.6)\n",
        "validImages_street = int(len(streetImages) * 0.3)\n",
        "testImages_street = int(len(streetImages) * 0.1)\n"
      ]
    },
    {
      "cell_type": "code",
      "execution_count": 15,
      "metadata": {
        "id": "hnpTMbJa2MPB"
      },
      "outputs": [],
      "source": [
        "for i in range(0,testImages_none):\n",
        "    filename_n = os.path.basename(noneImages[i])\n",
        "    os.rename(noneImages[i], os.path.join(TEST_NONE_DIR, filename_n))"
      ]
    },
    {
      "cell_type": "code",
      "execution_count": 16,
      "metadata": {
        "id": "Lhk69nQb2NbP"
      },
      "outputs": [],
      "source": [
        "for i in range(0,testImages_street):\n",
        "    filename_s = os.path.basename(streetImages[i])\n",
        "    os.rename(streetImages[i], os.path.join(TEST_STREET_DIR, filename_s))"
      ]
    },
    {
      "cell_type": "code",
      "execution_count": 17,
      "metadata": {
        "id": "9z63Phme3ZVe"
      },
      "outputs": [],
      "source": [
        "for i in range(testImages_none,validImages_none):\n",
        "    filename_n = os.path.basename(noneImages[i])\n",
        "    os.rename(noneImages[i], os.path.join(VALID_NONE_DIR, filename_n))"
      ]
    },
    {
      "cell_type": "code",
      "execution_count": 18,
      "metadata": {
        "id": "gUX8HyS83hC-"
      },
      "outputs": [],
      "source": [
        "for i in range(testImages_street,validImages_street):\n",
        "    filename_s = os.path.basename(streetImages[i])\n",
        "    os.rename(streetImages[i], os.path.join(VALID_STREET_DIR, filename_s))"
      ]
    },
    {
      "cell_type": "code",
      "execution_count": 19,
      "metadata": {
        "id": "9NsiWZXx2OUQ"
      },
      "outputs": [],
      "source": [
        "for i in range(validImages_none,len(noneImages)):\n",
        "    filename_n = os.path.basename(noneImages[i])\n",
        "    os.rename(noneImages[i], os.path.join(TRAIN_NONE_DIR, filename_n))"
      ]
    },
    {
      "cell_type": "code",
      "execution_count": 20,
      "metadata": {
        "id": "anWcpHoR3wRy"
      },
      "outputs": [],
      "source": [
        "for i in range(validImages_street,len(streetImages)):\n",
        "    filename_s = os.path.basename(streetImages[i])\n",
        "    os.rename(streetImages[i], os.path.join(TRAIN_STREET_DIR, filename_s))"
      ]
    },
    {
      "cell_type": "code",
      "execution_count": 21,
      "metadata": {
        "colab": {
          "base_uri": "https://localhost:8080/"
        },
        "id": "fEZKz21Ov1x3",
        "outputId": "f55c6a06-9e3f-4ddc-e140-0e25c110e8c0"
      },
      "outputs": [
        {
          "name": "stdout",
          "output_type": "stream",
          "text": [
            "Datensatz entält 10000 Kacheln\n",
            "Davon sind 5995 Kacheln mit Straßen\n",
            "Davon sind 4005 Kacheln ohne Straßen\n",
            "\n",
            "Kacheln in /content/dataset/train/none :  2804\n",
            "Kacheln in /content/dataset/train/street :  4197\n",
            "Kacheln in /content/dataset/valid/none :  801\n",
            "Kacheln in /content/dataset/valid/street :  1199\n",
            "Kacheln in /content/dataset/test/none :  400\n",
            "Kacheln in /content/dataset/test/street :  599\n",
            "29 Kacheln sind übrig geblieben\n"
          ]
        }
      ],
      "source": [
        "print(\"Data set contains \" + str(len(imageList)) + \" tiles\")\n",
        "print(\"Of which are\" + str(len(streetImages)) + \" tiles with streets\")\n",
        "print(\"Of which are\" + str(len(noneImages)) + \" tiles without streets\")\n",
        "print(\"\")\n",
        "\n",
        "dir_list = [TRAIN_NONE_DIR,TRAIN_STREET_DIR,VALID_NONE_DIR,VALID_STREET_DIR,TEST_NONE_DIR,TEST_STREET_DIR]\n",
        "for dir in dir_list:\n",
        "    file_count = sum([len(files) for root,dir,files in os.walk(dir)])\n",
        "    print('Tiles in', dir,': ',file_count)\n",
        "\n",
        "imageList = list()\n",
        "for (root, name, files) in os.walk(dataset):\n",
        "    imageList += [os.path.join(root, file) for file in files]\n",
        "\n",
        "print(str(len(dataset)) + \" Tiles are left over\")"
      ]
    },
    {
      "cell_type": "markdown",
      "metadata": {
        "id": "eOCUIG2uPuvg"
      },
      "source": [
        "\n",
        "**Model**\n",
        "\n",
        "Importing the required Keras modules\n",
        "\n",
        "- import Adam - we will be usng the Adaptive Momentum optimizer.\n",
        "- import binary_crossentropy - there are only two classes, so we can use binary - cross-entropy rather than softmax cross-entropy.\n",
        "- import TensorBoard, EarlyStopping - these callback will be used to gather - TensorBoard data and to stop training if the validation accuracy no longers increases over a set number of epochs.\n",
        "- import ImageDataGenerator - the ImageDataGenerator will produce batches of augmented data.\n",
        "\n"
      ]
    },
    {
      "cell_type": "code",
      "execution_count": 22,
      "metadata": {
        "id": "83rI7ilmKKIW"
      },
      "outputs": [],
      "source": [
        "\n",
        "import keras\n",
        "from tensorflow.keras.optimizers import Adam\n",
        "#from keras.optimizers import Adam #old version -> funktionierte nicht mehr\n",
        "from keras.losses import binary_crossentropy\n",
        "from keras.callbacks import TensorBoard, EarlyStopping\n",
        "from keras.preprocessing.image import ImageDataGenerator\n",
        "\n",
        "import numpy as np\n",
        "import pandas as pd\n",
        "import matplotlib.pyplot as plt\n",
        "import os\n",
        "import shutil\n",
        "import sys\n",
        "\n",
        "\n",
        "\n",
        "# Silence TensorFlow messages\n",
        "os.environ['TF_CPP_MIN_LOG_LEVEL'] = '1'\n",
        "\n"
      ]
    },
    {
      "cell_type": "code",
      "execution_count": 23,
      "metadata": {
        "id": "tO9yL0XHKQ8I"
      },
      "outputs": [],
      "source": [
        "#Makes folder for the results and weights\n",
        "sys.path.append('/content/drive/MyDrive/Colab Notebooks/data/results/Model_folder')\n",
        "sys.path.append('/content/drive/MyDrive/Colab Notebooks/data/results/TensorBoard_folder')\n"
      ]
    },
    {
      "cell_type": "markdown",
      "metadata": {
        "id": "ud79Rr6wE3xM"
      },
      "source": [
        "\n",
        "\n",
        "Next we set up the folders for storing the trained Keras model, the TensorBoard logs and the augmented images and delete any previous results..\n"
      ]
    },
    {
      "cell_type": "code",
      "execution_count": 24,
      "metadata": {
        "colab": {
          "base_uri": "https://localhost:8080/"
        },
        "id": "YAuFpLMQKTn4",
        "outputId": "43a1a9ce-e1f5-4f32-9a7b-029383051366"
      },
      "outputs": [
        {
          "name": "stdout",
          "output_type": "stream",
          "text": [
            "This script is located in:  /content/drive/MyDrive/Colab Notebooks/results/\n",
            "Directory /content/drive/MyDrive/Colab Notebooks/results/keras_model created \n",
            "Directory /content/drive/MyDrive/Colab Notebooks/results/tb_logs created \n",
            "Directory /content/aug_img created \n"
          ]
        }
      ],
      "source": [
        "#SCRIPT_DIR = os.getcwd()\n",
        "#print('This script is located in: ', SCRIPT_DIR)\n",
        "\n",
        "SCRIPT_DIR_Drive = '/content/drive/MyDrive/Colab Notebooks/results/'\n",
        "print('This script is located in: ', SCRIPT_DIR_Drive)\n",
        "\n",
        "TRAIN_DIR = os.path.join(SCRIPT_DIR, 'dataset/train')\n",
        "VALID_DIR = os.path.join(SCRIPT_DIR, 'dataset/valid')\n",
        "TEST_DIR = os.path.join(SCRIPT_DIR, 'dataset/test')\n",
        "\n",
        "# Augmented images folder\n",
        "AUG_IMG_DIR = os.path.join(SCRIPT_DIR,'aug_img')\n",
        "\n",
        "# Keras model folder Colab\n",
        "#-> war entkommentiert.. Wegen transfer learning ?\n",
        "KERAS_MODEL_DIR = os.path.join(SCRIPT_DIR, 'keras_model')\n",
        "\n",
        "# Keras model folder Drive\n",
        "KERAS_MODEL_DIR = os.path.join(SCRIPT_DIR_Drive, 'keras_model')\n",
        "\n",
        "# TensorBoard folder Colab\n",
        "#-> war entkommentiert.. Wegen transfer learning ?\n",
        "TB_LOG_DIR = os.path.join(SCRIPT_DIR, 'tb_logs')\n",
        "\n",
        "# TensorBoard folder Drive\n",
        "TB_LOG_DIR = os.path.join(SCRIPT_DIR_Drive, 'tb_logs')\n",
        "\n",
        "# remove previous results and recreate folders -> Not if transfer learning !\n",
        "dir_list = [KERAS_MODEL_DIR, TB_LOG_DIR, AUG_IMG_DIR]\n",
        "\n",
        "for dir in dir_list:\n",
        "    if (os.path.exists(dir)):\n",
        "        shutil.rmtree(dir)\n",
        "    os.makedirs(dir)\n",
        "    print(\"Directory\" , dir ,  \"created \")\n",
        "\n",
        "if (os.path.exists('results/results.csv')):\n",
        "    os.remove('results/results.csv')\n"
      ]
    },
    {
      "cell_type": "markdown",
      "metadata": {
        "id": "sb7KCJD2GPQI"
      },
      "source": [
        "\n",
        "\n",
        "Setting training parameters\n",
        "(note that we are very unlikely to reach 100 epochs due to the Early Stopping callback).\n"
      ]
    },
    {
      "cell_type": "code",
      "execution_count": 25,
      "metadata": {
        "id": "1m6URAzTKbZ3"
      },
      "outputs": [],
      "source": [
        "EPOCHS = 10\n",
        "# batchsizes for training & validation, batchsize for prediction is 1\n",
        "BATCHSIZE = 32\n",
        "\n",
        "# optimizer learning rate & decay rate\n",
        "LEARN_RATE = 0.0001\n",
        "DECAY_RATE = LEARN_RATE/10.0"
      ]
    },
    {
      "cell_type": "markdown",
      "metadata": {
        "id": "zNcjeLvxHBtR"
      },
      "source": [
        "\n",
        "\n",
        "The real-time image augmentation includes a resizing of the images. \n",
        "Set the image size to be 200 x 250 pixels. \n",
        "All images will be resized before being used in training, validation and prediction. "
      ]
    },
    {
      "cell_type": "code",
      "execution_count": 26,
      "metadata": {
        "id": "jNZxicNbKcud"
      },
      "outputs": [],
      "source": [
        "IMAGE_HEIGHT = res\n",
        "IMAGE_WIDTH = res"
      ]
    },
    {
      "cell_type": "markdown",
      "metadata": {
        "id": "i-euym7mHFHA"
      },
      "source": [
        "\n",
        "\n",
        "---\n",
        "\n",
        "\n",
        "\n",
        "The description of our CNN is contained in the customCNN.py script and uses the Keras Functional API. The CNN is fully-convolutional - the dense or fully-connected layers have been replaced with convolutional layers that have their kernel sizes, number of filters and stride lengths set such that they create output shapes that mimic the output shapes of dense/FC layers.\n",
        "\n",
        "![simple_cnn.png](data:image/png;base64,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)\n",
        "\n",
        "There are no pooling layers - these have also been replaced with convolutional layers that have their kernel size and strides set to the same value which is > 1. The output activation layer is a sigmoid function as we only have two classes - if the output of the sigmoid is > 0.5, the predicted class is 'street', less that 0.5 is a prediction of 'no_street'.\n",
        "\n",
        "The CNN has deliberately been kept simple (it only has 8 convolutional layers) so the expected prediction accuracy will not be higher than approximately 90%. To reduce overfitting, batch normalization layers have been used and also L2 kernel regularization.\n"
      ]
    },
    {
      "cell_type": "code",
      "execution_count": 27,
      "metadata": {
        "id": "ggaveDqQKxO9"
      },
      "outputs": [],
      "source": [
        "'''\n",
        "Simple custom CNN\n",
        "There are no pooling layers, instead convolution layers with\n",
        "2x2 kernels and stride length = 2 are used for data reduction.\n",
        "Dense layers are also replaced with convolution layers.\n",
        "Sigmoid activation in the final layer.\n",
        "'''\n",
        "\n",
        "from keras.models import Model\n",
        "from keras import regularizers\n",
        "from keras.layers import Input, Flatten, Conv2D\n",
        "from keras.layers import BatchNormalization, Activation\n",
        "\n",
        "\n",
        "# wrapper function for the 2D convolution layer\n",
        "def conv_layer(input, filters, kernel_size, strides=1):\n",
        "\n",
        "      return Conv2D(filters=filters, kernel_size=kernel_size, kernel_initializer='he_uniform', \\\n",
        "                    kernel_regularizer=regularizers.l2(0.01), \\\n",
        "                    strides=strides, activation='relu', padding='same')(input)\n",
        "\n",
        "\n",
        "#for Greyscale:\n",
        "def customCNN(input_shape=(512, 512, 1)):\n",
        "\n",
        "      input_layer = Input(shape=input_shape)\n",
        "\n",
        "      net = conv_layer(input_layer, 32, 3)\n",
        "      net = conv_layer(net, 32, 2, 2)\n",
        "      net = BatchNormalization()(net)\n",
        "\n",
        "      net = conv_layer(net, 64, 3)\n",
        "      net = conv_layer(net, 64, 2, 2)\n",
        "      net = BatchNormalization()(net)\n",
        "\n",
        "      net = conv_layer(net, 128, 3)\n",
        "      net = conv_layer(net, 128, 2, 2)\n",
        "      net = BatchNormalization()(net)\n",
        "\n",
        "      net = conv_layer(net, 128, 5, 5)\n",
        "      #Hier extra convolution für 512 Datensätze !\n",
        "      net = conv_layer(net, 128, 5, 5)\n",
        "      net = conv_layer(net, 1, 5, 7)\n",
        "      net = BatchNormalization()(net)\n",
        "      net = Flatten()(net)\n",
        "      output_layer = Activation('sigmoid')(net)\n",
        "\n",
        "      return Model(inputs=input_layer, outputs=output_layer)"
      ]
    },
    {
      "cell_type": "code",
      "execution_count": null,
      "metadata": {
        "colab": {
          "base_uri": "https://localhost:8080/",
          "height": 146
        },
        "id": "1gAhj58fREpl",
        "outputId": "e1f9080c-a052-4538-96af-2125b00029f3"
      },
      "outputs": [
        {
          "data": {
            "application/vnd.google.colaboratory.intrinsic+json": {
              "type": "string"
            },
            "text/plain": [
              "'import keras,os\\nfrom keras.models import Sequential\\nfrom keras.layers import Dense, Conv2D, MaxPool2D , Flatten\\nfrom keras.preprocessing.image import ImageDataGenerator\\nimport numpy as np\\n\\n\\n#for Greyscale:\\ndef customCNN(input_shape=(512, 512, 1)):\\n\\n  model = Sequential()\\n  model.add(Conv2D(input_shape=(224,224,3),filters=64,kernel_size=(3,3),padding=\"same\", activation=\"relu\"))      \\n  model.add(Conv2D(filters=64,kernel_size=(3,3),padding=\"same\", activation=\"relu\"))\\n  model.add(MaxPool2D(pool_size=(2,2),strides=(2,2)))    \\n\\n  model.add(Conv2D(filters=128, kernel_size=(3,3), padding=\"same\", activation=\"relu\"))\\n  model.add(Conv2D(filters=128, kernel_size=(3,3), padding=\"same\", activation=\"relu\"))      \\n  model.add(MaxPool2D(pool_size=(2,2),strides=(2,2)))\\n\\n  model.add(Conv2D(filters=256, kernel_size=(3,3), padding=\"same\", activation=\"relu\"))\\n  model.add(Conv2D(filters=256, kernel_size=(3,3), padding=\"same\", activation=\"relu\"))\\n  model.add(Conv2D(filters=256, kernel_size=(3,3), padding=\"same\", activation=\"relu\"))\\n  model.add(MaxPool2D(pool_size=(2,2),strides=(2,2)))\\n\\n  model.add(Conv2D(filters=512, kernel_size=(3,3), padding=\"same\", activation=\"relu\"))\\n  model.add(Conv2D(filters=512, kernel_size=(3,3), padding=\"same\", activation=\"relu\"))\\n  model.add(Conv2D(filters=512, kernel_size=(3,3), padding=\"same\", activation=\"relu\"))\\n  model.add(MaxPool2D(pool_size=(2,2),strides=(2,2)))\\n\\n  model.add(Conv2D(filters=512, kernel_size=(3,3), padding=\"same\", activation=\"relu\"))\\n  model.add(Conv2D(filters=512, kernel_size=(3,3), padding=\"same\", activation=\"relu\"))\\n  model.add(Conv2D(filters=512, kernel_size=(3,3), padding=\"same\", activation=\"relu\"))\\n  model.add(MaxPool2D(pool_size=(2,2),strides=(2,2)))\\n\\n  model.add(Flatten())\\n  model.add(Dense(units=4096,activation=\"relu\"))\\n  model.add(Dense(units=4096,activation=\"relu\"))\\n  model.add(Dense(units=2, activation=\"softmax\"))\\n\\nfrom keras.optimizers import Adam\\nopt = Adam(lr=0.001)\\nmodel.compile(optimizer=opt, loss=keras.losses.categorical_crossentropy, metrics=[\\'accuracy\\'])\\n\\nmodel = customCNN(input_shape=(IMAGE_HEIGHT, IMAGE_WIDTH, 1))'"
            ]
          },
          "execution_count": 27,
          "metadata": {},
          "output_type": "execute_result"
        }
      ],
      "source": [
        "'''\n",
        "VGG16\n",
        "Angepasst\n",
        "'''\n",
        "\n",
        "'''import keras,os\n",
        "from keras.models import Sequential\n",
        "from keras.layers import Dense, Conv2D, MaxPool2D , Flatten\n",
        "from keras.preprocessing.image import ImageDataGenerator\n",
        "import numpy as np\n",
        "\n",
        "\n",
        "#for Greyscale:\n",
        "def customCNN(input_shape=(512, 512, 1)):\n",
        "\n",
        "  model = Sequential()\n",
        "  model.add(Conv2D(input_shape=(224,224,3),filters=64,kernel_size=(3,3),padding=\"same\", activation=\"relu\"))\n",
        "  model.add(Conv2D(filters=64,kernel_size=(3,3),padding=\"same\", activation=\"relu\"))\n",
        "  model.add(MaxPool2D(pool_size=(2,2),strides=(2,2)))\n",
        "\n",
        "  model.add(Conv2D(filters=128, kernel_size=(3,3), padding=\"same\", activation=\"relu\"))\n",
        "  model.add(Conv2D(filters=128, kernel_size=(3,3), padding=\"same\", activation=\"relu\"))\n",
        "  model.add(MaxPool2D(pool_size=(2,2),strides=(2,2)))\n",
        "\n",
        "  model.add(Conv2D(filters=256, kernel_size=(3,3), padding=\"same\", activation=\"relu\"))\n",
        "  model.add(Conv2D(filters=256, kernel_size=(3,3), padding=\"same\", activation=\"relu\"))\n",
        "  model.add(Conv2D(filters=256, kernel_size=(3,3), padding=\"same\", activation=\"relu\"))\n",
        "  model.add(MaxPool2D(pool_size=(2,2),strides=(2,2)))\n",
        "\n",
        "  model.add(Conv2D(filters=512, kernel_size=(3,3), padding=\"same\", activation=\"relu\"))\n",
        "  model.add(Conv2D(filters=512, kernel_size=(3,3), padding=\"same\", activation=\"relu\"))\n",
        "  model.add(Conv2D(filters=512, kernel_size=(3,3), padding=\"same\", activation=\"relu\"))\n",
        "  model.add(MaxPool2D(pool_size=(2,2),strides=(2,2)))\n",
        "\n",
        "  model.add(Conv2D(filters=512, kernel_size=(3,3), padding=\"same\", activation=\"relu\"))\n",
        "  model.add(Conv2D(filters=512, kernel_size=(3,3), padding=\"same\", activation=\"relu\"))\n",
        "  model.add(Conv2D(filters=512, kernel_size=(3,3), padding=\"same\", activation=\"relu\"))\n",
        "  model.add(MaxPool2D(pool_size=(2,2),strides=(2,2)))\n",
        "\n",
        "  model.add(Flatten())\n",
        "  model.add(Dense(units=4096,activation=\"relu\"))\n",
        "  model.add(Dense(units=4096,activation=\"relu\"))\n",
        "  model.add(Dense(units=2, activation=\"softmax\"))\n",
        "\n",
        "from keras.optimizers import Adam\n",
        "opt = Adam(lr=0.001)\n",
        "model.compile(optimizer=opt, loss=keras.losses.categorical_crossentropy, metrics=['accuracy'])\n",
        "\n",
        "model = customCNN(input_shape=(IMAGE_HEIGHT, IMAGE_WIDTH, 1))'''\n",
        "\n"
      ]
    },
    {
      "cell_type": "code",
      "execution_count": 28,
      "metadata": {
        "colab": {
          "base_uri": "https://localhost:8080/"
        },
        "id": "TZQUwjpMKmN9",
        "outputId": "9a451752-65d8-426d-cbc3-8f9e04d7b8bf"
      },
      "outputs": [
        {
          "name": "stdout",
          "output_type": "stream",
          "text": [
            "Model: \"model\"\n",
            "_________________________________________________________________\n",
            " Layer (type)                Output Shape              Param #   \n",
            "=================================================================\n",
            " input_1 (InputLayer)        [(None, 256, 256, 1)]     0         \n",
            "                                                                 \n",
            " conv2d (Conv2D)             (None, 256, 256, 32)      320       \n",
            "                                                                 \n",
            " conv2d_1 (Conv2D)           (None, 128, 128, 32)      4128      \n",
            "                                                                 \n",
            " batch_normalization (Batch  (None, 128, 128, 32)      128       \n",
            " Normalization)                                                  \n",
            "                                                                 \n",
            " conv2d_2 (Conv2D)           (None, 128, 128, 64)      18496     \n",
            "                                                                 \n",
            " conv2d_3 (Conv2D)           (None, 64, 64, 64)        16448     \n",
            "                                                                 \n",
            " batch_normalization_1 (Bat  (None, 64, 64, 64)        256       \n",
            " chNormalization)                                                \n",
            "                                                                 \n",
            " conv2d_4 (Conv2D)           (None, 64, 64, 128)       73856     \n",
            "                                                                 \n",
            " conv2d_5 (Conv2D)           (None, 32, 32, 128)       65664     \n",
            "                                                                 \n",
            " batch_normalization_2 (Bat  (None, 32, 32, 128)       512       \n",
            " chNormalization)                                                \n",
            "                                                                 \n",
            " conv2d_6 (Conv2D)           (None, 7, 7, 128)         409728    \n",
            "                                                                 \n",
            " conv2d_7 (Conv2D)           (None, 2, 2, 128)         409728    \n",
            "                                                                 \n",
            " conv2d_8 (Conv2D)           (None, 1, 1, 1)           3201      \n",
            "                                                                 \n",
            " batch_normalization_3 (Bat  (None, 1, 1, 1)           4         \n",
            " chNormalization)                                                \n",
            "                                                                 \n",
            " flatten (Flatten)           (None, 1)                 0         \n",
            "                                                                 \n",
            " activation (Activation)     (None, 1)                 0         \n",
            "                                                                 \n",
            "=================================================================\n",
            "Total params: 1002469 (3.82 MB)\n",
            "Trainable params: 1002019 (3.82 MB)\n",
            "Non-trainable params: 450 (1.76 KB)\n",
            "_________________________________________________________________\n",
            "None\n",
            "Model Inputs: [<KerasTensor: shape=(None, 256, 256, 1) dtype=float32 (created by layer 'input_1')>]\n",
            "Model Outputs: [<KerasTensor: shape=(None, 1) dtype=float32 (created by layer 'activation')>]\n"
          ]
        }
      ],
      "source": [
        "#for greyscale\n",
        "model = customCNN(input_shape=(IMAGE_HEIGHT, IMAGE_WIDTH, 1))\n",
        "#for RGB\n",
        "#model = customCNN(input_shape=(IMAGE_HEIGHT, IMAGE_WIDTH, 3))\n",
        "\n",
        "#For transfer learning => Cat Dog\n",
        "#model.load_weights ('/content/drive/MyDrive/Colab/keras_model/k_model_weights.h5')#('/content/drive/MyDrive/Colab_Notebooks/cat_dog_example/keras_model/k_model_weights.h5')\n",
        "\n",
        "# print a summary of the model\n",
        "print(model.summary())\n",
        "print(\"Model Inputs: {ips}\".format(ips=(model.inputs)))\n",
        "print(\"Model Outputs: {ops}\".format(ops=(model.outputs)))"
      ]
    },
    {
      "cell_type": "markdown",
      "metadata": {
        "id": "NiC4q8fTIqow"
      },
      "source": [
        "\n",
        "\n",
        "Next we declare two instances of the ImageDataGenerator class. The first, datagen_tv, will perform image augmentation for training and validation. The second, datagen_p for prediction.\n",
        "\n",
        "The image augmentation for training and validation is performed on-the-fly and is composed of:\n",
        "\n",
        "- the 8bit pixel data is normalized from 0:225 to the range 0:1.0\n",
        "- a random rotation of 5° max\n",
        "- random horizontal flipping i.e flipping about the vertical axis to produce a mirror image.\n",
        "- random horizontal and vertical shifts of the image by 10% of the image size (200 x 200 in this case).\n",
        "\n",
        "We only use pixel normalization for the prediction augmentation.\n"
      ]
    },
    {
      "cell_type": "code",
      "execution_count": 29,
      "metadata": {
        "id": "xcIhtSVZK66A"
      },
      "outputs": [],
      "source": [
        "datagen_tv = ImageDataGenerator(rescale=1/255,\n",
        "                                rotation_range=5,\n",
        "                                horizontal_flip=True,\n",
        "                                height_shift_range=0.1,\n",
        "                                width_shift_range=0.1\n",
        "                                )\n",
        "\n",
        "# data generation for prediction - only rescaling\n",
        "datagen_p = ImageDataGenerator(rescale=1/255)"
      ]
    },
    {
      "cell_type": "code",
      "execution_count": 32,
      "metadata": {
        "colab": {
          "base_uri": "https://localhost:8080/"
        },
        "id": "9RDjigpTK8mZ",
        "outputId": "674fd750-e8fd-457a-a129-625d9659ddb5"
      },
      "outputs": [
        {
          "name": "stdout",
          "output_type": "stream",
          "text": [
            "Found 7001 images belonging to 2 classes.\n",
            "Found 2000 images belonging to 2 classes.\n",
            "Found 999 images belonging to 2 classes.\n"
          ]
        }
      ],
      "source": [
        "# train generator takes images from the specified directory, applies\n",
        "# a resize to IMAGE_HEIGHT x IMAGE_WIDTH with bilinear interpolation.\n",
        "train_generator = datagen_tv.flow_from_directory(TRAIN_DIR,\n",
        "                                                 target_size=(IMAGE_HEIGHT, IMAGE_WIDTH),\n",
        "                                                 interpolation='bilinear',\n",
        "                                                 color_mode=\"grayscale\",\n",
        "                                                 batch_size=BATCHSIZE,\n",
        "                                                 class_mode='binary',\n",
        "                                                 shuffle=True,\n",
        "                                                 seed=42\n",
        "                                                 )\n",
        "'''\n",
        "uncomment save_to_dir=AUG_IMG_DIR to save the augmented images\n",
        "note that this will take up considerable disk space\n",
        "'''\n",
        "validation_generator = datagen_tv.flow_from_directory(VALID_DIR,\n",
        "                                                      target_size=(IMAGE_HEIGHT, IMAGE_WIDTH),\n",
        "                                                      interpolation='bilinear',\n",
        "                                                      color_mode=\"grayscale\",\n",
        "                                                      batch_size=BATCHSIZE,\n",
        "                                                      class_mode='binary',\n",
        "                                                      shuffle=True,\n",
        "                                                    # save_to_dir=AUG_IMG_DIR\n",
        "                                                      )\n",
        "\n",
        "\n",
        "prediction_generator = datagen_p.flow_from_directory(TEST_DIR,\n",
        "                                                     target_size=(IMAGE_HEIGHT, IMAGE_WIDTH),\n",
        "                                                     interpolation='bilinear',\n",
        "                                                     color_mode=\"grayscale\",\n",
        "                                                     batch_size=1,\n",
        "                                                     class_mode='binary',\n",
        "                                                     shuffle=False)\n",
        "\n",
        "\n",
        "\n",
        "##############################################\n",
        "# Compile model\n",
        "##############################################\n",
        "# Adam optimizer to change weights & biases\n",
        "# Loss function is binary crossentropy\n",
        "\n",
        "from tensorflow.keras.optimizers.legacy import Adam\n",
        "\n",
        "# Modell kompilieren\n",
        "model.compile(optimizer=Adam(learning_rate=LEARN_RATE, decay=0.0),\n",
        "              loss='binary_crossentropy',\n",
        "              metrics=['binary_accuracy'])"
      ]
    },
    {
      "cell_type": "markdown",
      "metadata": {
        "id": "sRAVPz7hI4av"
      },
      "source": [
        "\n",
        "\n",
        "Setting up two Callbacks. The first is for collecting TensorBoard data. The second defines a means for halting the training if the validation accuracy stops improving for 5 epochs. Once training stops, the model parameters from the epoch that gave the best results in terms of validation accuracy are restored.\n"
      ]
    },
    {
      "cell_type": "code",
      "execution_count": 33,
      "metadata": {
        "colab": {
          "base_uri": "https://localhost:8080/"
        },
        "id": "keWVUNKoLCHO",
        "outputId": "85b0c144-8b13-40f2-d322-79748d68b3b6"
      },
      "outputs": [
        {
          "name": "stderr",
          "output_type": "stream",
          "text": [
            "WARNING:tensorflow:`batch_size` is no longer needed in the `TensorBoard` Callback and will be ignored in TensorFlow 2.0.\n"
          ]
        }
      ],
      "source": [
        "# create Tensorboard callback Colab\n",
        "tb_call = TensorBoard(log_dir=TB_LOG_DIR,\n",
        "                      batch_size=BATCHSIZE)\n",
        "\n",
        "earlystop_call = EarlyStopping(monitor='val_binary_accuracy',\n",
        "                               mode='max',\n",
        "                               min_delta=0.0001,\n",
        "                               patience=5,\n",
        "                               restore_best_weights=True)\n",
        "\n",
        "\n",
        "callbacks_list = [tb_call, earlystop_call]"
      ]
    },
    {
      "cell_type": "markdown",
      "metadata": {
        "id": "n9S8k-jQI70o"
      },
      "source": [
        "\n",
        "\n",
        "Run the training.\n"
      ]
    },
    {
      "cell_type": "code",
      "execution_count": null,
      "metadata": {
        "colab": {
          "background_save": true,
          "base_uri": "https://localhost:8080/"
        },
        "id": "rF9f_RyMLFKc",
        "outputId": "e402b0c5-47ea-4923-9cdd-c278db274d04"
      },
      "outputs": [
        {
          "name": "stderr",
          "output_type": "stream",
          "text": [
            "<ipython-input-34-ebdb42fcba1b>:8: UserWarning: `Model.fit_generator` is deprecated and will be removed in a future version. Please use `Model.fit`, which supports generators.\n",
            "  training_history=model.fit_generator(generator=train_generator,\n"
          ]
        },
        {
          "name": "stdout",
          "output_type": "stream",
          "text": [
            "Epoch 1/10\n",
            "218/218 [==============================] - 1383s 6s/step - loss: 12.5422 - binary_accuracy: 0.8100 - val_loss: 10.9286 - val_binary_accuracy: 0.4002\n",
            "Epoch 2/10\n",
            " 40/218 [====>.........................] - ETA: 17:50 - loss: 10.0235 - binary_accuracy: 0.8344"
          ]
        }
      ],
      "source": [
        "# calculate number of steps in one training epoch\n",
        "train_steps = train_generator.n//train_generator.batch_size\n",
        "\n",
        "# calculate number of steps in one validation epoch\n",
        "val_steps = validation_generator.n//validation_generator.batch_size\n",
        "\n",
        "# run training\n",
        "training_history=model.fit_generator(generator=train_generator,\n",
        "                                  epochs=EPOCHS,\n",
        "                                  steps_per_epoch=train_steps,\n",
        "                                  validation_data=validation_generator,\n",
        "                                  validation_steps=val_steps,\n",
        "                                  callbacks=callbacks_list,\n",
        "                                  shuffle=True)\n",
        "\n",
        "\n",
        "#print(\"\\nTo open TensorBoard: tensorboard --logdir={dir} --host localhost --port 6006\".format(dir=TB_LOG_DIR))"
      ]
    },
    {
      "cell_type": "code",
      "execution_count": null,
      "metadata": {},
      "outputs": [],
      "source": [
        "training_history = model.fit_generator(steps_per_epoch=100,generator=val_steps, validation_data= train_steps, validation_steps=10,epochs=100,callbacks=[tb_call, earlystop_call])\n"
      ]
    },
    {
      "cell_type": "code",
      "execution_count": null,
      "metadata": {
        "id": "eAdxypc2Ni2r"
      },
      "outputs": [],
      "source": [
        "import matplotlib.pyplot as plt\n",
        "plt.plot(training_history.history[\"accuracy\"])\n",
        "plt.plot(training_history.history['val_accuracy'])\n",
        "plt.plot(training_history.history['loss'])\n",
        "plt.plot(training_history.history['val_loss'])\n",
        "plt.title(\"model accuracy\")\n",
        "plt.ylabel(\"Accuracy\")\n",
        "plt.xlabel(\"Epoch\")\n",
        "plt.legend([\"Accuracy\",\"Validation Accuracy\",\"loss\",\"Validation Loss\"])\n",
        "plt.savefig('/content/dataset/plot.png')\n",
        "plt.show()"
      ]
    },
    {
      "cell_type": "markdown",
      "metadata": {
        "id": "YVbczA6qI_xh"
      },
      "source": [
        "\n",
        "\n",
        "After training has finished, run a final evaluation using the validation set. The data used comes from the validation generator and we run the complete validation set for 1 epoch. evaluate_generator returns the evaluation loss and accuracy.\n"
      ]
    },
    {
      "cell_type": "code",
      "execution_count": null,
      "metadata": {
        "colab": {
          "background_save": true,
          "base_uri": "https://localhost:8080/"
        },
        "id": "cPnCXmWfLKyo",
        "outputId": "e379737d-1c98-4a39-eec1-f02d7f622360"
      },
      "outputs": [
        {
          "name": "stderr",
          "output_type": "stream",
          "text": [
            "/usr/local/lib/python3.7/dist-packages/ipykernel_launcher.py:4: UserWarning: `Model.evaluate_generator` is deprecated and will be removed in a future version. Please use `Model.evaluate`, which supports generators.\n",
            "  after removing the cwd from sys.path.\n"
          ]
        },
        {
          "name": "stdout",
          "output_type": "stream",
          "text": [
            "62/62 [==============================] - 77s 1s/step - loss: 1.5958 - binary_accuracy: 0.8196\n",
            "Evaluation Loss    :  1.5957717895507812\n",
            "Evaluation Accuracy:  0.819556474685669\n"
          ]
        }
      ],
      "source": [
        "scores = model.evaluate_generator(generator=validation_generator,\n",
        "                                  max_queue_size=10,\n",
        "                                  steps=val_steps,\n",
        "                                  verbose=1)\n",
        "\n",
        "print ('Evaluation Loss    : ', scores[0])\n",
        "print ('Evaluation Accuracy: ', scores[1])"
      ]
    },
    {
      "cell_type": "markdown",
      "metadata": {
        "id": "Lmayjnx5JCM6"
      },
      "source": [
        "\n",
        "\n",
        "As an extra, optional step we can make predictions using the trained model. The predict_generator returns a list of predictions that it makes from the data fed to the prediction_generator - the test dataset in this case.\n"
      ]
    },
    {
      "cell_type": "code",
      "execution_count": null,
      "metadata": {
        "colab": {
          "background_save": true
        },
        "id": "yNpH_U5dLM22",
        "outputId": "dd9aa62d-c430-45d1-df27-775a6bd70af9"
      },
      "outputs": [
        {
          "name": "stderr",
          "output_type": "stream",
          "text": [
            "/usr/local/lib/python3.7/dist-packages/ipykernel_launcher.py:10: UserWarning: `Model.predict_generator` is deprecated and will be removed in a future version. Please use `Model.predict`, which supports generators.\n",
            "  # Remove the CWD from sys.path while we load stuff.\n"
          ]
        },
        {
          "name": "stdout",
          "output_type": "stream",
          "text": [
            "999/999 [==============================] - 45s 45ms/step\n"
          ]
        }
      ],
      "source": [
        "# reset the generator before using it for predictions\n",
        "prediction_generator.reset()\n",
        "\n",
        "# calculate number of steps for prediction\n",
        "predict_steps = prediction_generator.n\n",
        "\n",
        "# predict generator returns a list of all predictions\n",
        "pred = model.predict_generator(generator=prediction_generator,\n",
        "                               steps=predict_steps,\n",
        "                               verbose=1)"
      ]
    },
    {
      "cell_type": "markdown",
      "metadata": {
        "id": "A6sGlocrJFdd"
      },
      "source": [
        "\n",
        "\n",
        "We don't have a list of labels that match the data sent to the prediction generator, so we need to extract the 'ground truth' labels from the filenames in the test dataset. We do this by first creating a list of the filenames that were used during prediction - This list will be in the order in which the image files were applied to the prediction generator.\n"
      ]
    },
    {
      "cell_type": "code",
      "execution_count": null,
      "metadata": {
        "id": "YAy2NJEjLVpR"
      },
      "outputs": [],
      "source": [
        "# get a list of image filenames used in prediction\n",
        "filenames = prediction_generator.filenames"
      ]
    },
    {
      "cell_type": "markdown",
      "metadata": {
        "id": "tmAFFW2aJJhM"
      },
      "source": [
        "\n",
        "\n",
        "Another attribute of the prediction generator, .class_indices, will give a dictionary where the classes are the keys. {'streets': 0, 'no_streets': 1}\n",
        "\n",
        "Swap the keys and values so that we can use the predictions to index the dictionary and get back the associated class.\n"
      ]
    },
    {
      "cell_type": "code",
      "execution_count": null,
      "metadata": {
        "colab": {
          "background_save": true
        },
        "id": "r84t364ILXUN",
        "outputId": "1ad8a819-abe8-4113-f8df-1dedce4ec5c7"
      },
      "outputs": [
        {
          "name": "stdout",
          "output_type": "stream",
          "text": [
            "{'none': 0, 'street': 1}\n",
            "{0: 'none', 1: 'street'}\n"
          ]
        }
      ],
      "source": [
        "# the .class_indices attribute returns a dictionary with keys = classes\n",
        "labels = (prediction_generator.class_indices)\n",
        "print(labels)\n",
        "\n",
        "# make a new dictionary with keys & values swapped\n",
        "labels = dict((v,k) for k,v in labels.items())\n",
        "print(labels)"
      ]
    },
    {
      "cell_type": "markdown",
      "metadata": {
        "id": "3CWmuqZlJMhU"
      },
      "source": [
        "\n",
        "\n",
        "Now we can run through the list of predictions and decide f they are 'street or 'no_streets'. The values in the list of predictions come from the sigmoid activation function, so they are floating-point values between 0 and 1. Any value < 0.5 is class 0 and any value above 0.5 is class 1.\n"
      ]
    },
    {
      "cell_type": "code",
      "execution_count": null,
      "metadata": {
        "id": "GWMiJS3eLZwh"
      },
      "outputs": [],
      "source": [
        "# use the 'labels dictionary to create a list of predictions as strings\n",
        "# predictions is a list of sigmoid outputs\n",
        "# if sigmoid output < 0.5, CNN predicted class 0\n",
        "# if sigmoid output > 0.5, CNN predicted class 1\n",
        "predictions = list()\n",
        "for i in range(len(pred)):\n",
        "    if pred[i] > 0.5:\n",
        "        predictions.append(labels[1])\n",
        "    else:\n",
        "        predictions.append(labels[0])"
      ]
    },
    {
      "cell_type": "markdown",
      "metadata": {
        "id": "629iQa-nJO_Y"
      },
      "source": [
        "\n",
        "\n",
        "Now that we have a list of predictions that are strings (i.e. either 'streets' or 'no_streets') we can compare this list to the ground truth labels (extracted from the filenames) to calculate accuracy.\n"
      ]
    },
    {
      "cell_type": "code",
      "execution_count": null,
      "metadata": {
        "id": "8yb0jw6ULcTZ"
      },
      "outputs": [],
      "source": [
        "# iterate over the list of predictions and compare to ground truth labels\n",
        "# ground truth labels are derived from prediction filenames.\n",
        "correct_predictions = 0\n",
        "wrong_predictions = 0\n",
        "\n",
        "for i in range (len(predictions)):\n",
        "\n",
        "    # ground truth is first part of filename (i.e. the class folder)\n",
        "    # will need to be modified to '\\' for windows\n",
        "    ground_truth, _ = filenames[i].split('/',1)\n",
        "\n",
        "    # compare prediction to ground truth\n",
        "    if predictions[i] == ground_truth:\n",
        "        correct_predictions += 1\n",
        "    else:\n",
        "        wrong_predictions += 1\n",
        "\n",
        "# calculate accuracy\n",
        "acc = (correct_predictions/len(predictions)) * 100\n",
        "\n",
        "print('Correct Predictions: ',correct_predictions)\n",
        "print('Wrong Predictions  : ',wrong_predictions)\n",
        "print('Prediction Accuracy: ',acc,'%')"
      ]
    },
    {
      "cell_type": "markdown",
      "metadata": {
        "id": "Qw9dzPqsJSQW"
      },
      "source": [
        "\n",
        "\n",
        "Make a .csv file for the prediction results:"
      ]
    },
    {
      "cell_type": "code",
      "execution_count": null,
      "metadata": {
        "id": "MDvS5tlxLevt"
      },
      "outputs": [],
      "source": [
        "# write filenames and associated predictions to .csv file\n",
        "results = pd.DataFrame({\"Filename\":filenames,\n",
        "                        \"Predictions\":predictions})\n",
        "results.to_csv('results.csv',index=False)\n",
        "\n",
        "#Drive results\n",
        "results.to_csv('/content/drive/MyDrive/Colab Notebooks/results.csv',index=False)\n",
        "\n",
        "print('\\nPredictions and true labels saved to results.csv')"
      ]
    },
    {
      "cell_type": "code",
      "execution_count": null,
      "metadata": {
        "id": "eDM01SISLhpw"
      },
      "outputs": [],
      "source": [
        "'''# save just the weights (no architecture) to an HDF5 format file\n",
        "model.save_weights(os.path.join(KERAS_MODEL_DIR,'k_model_weights.h5'))\n",
        "\n",
        "# save just the architecture (no weights) to a JSON file\n",
        "with open(os.path.join(KERAS_MODEL_DIR,'k_model_architecture.json'), 'w') as f:\n",
        "    f.write(model.to_json())\n",
        "\n",
        "print('\\nTrained model saved to {dir}'.format(dir=KERAS_MODEL_DIR))'''"
      ]
    },
    {
      "cell_type": "code",
      "execution_count": null,
      "metadata": {
        "id": "Dm7qkysVSiwY"
      },
      "outputs": [],
      "source": [
        "print(dataset)\n",
        "print(\"\")\n",
        "print(\"Datensatz entält \" + str(len(imageList)) + \" Kacheln\")\n",
        "print(\"Davon sind \" + str(len(streetImages)) + \" Kacheln mit Straßen\")\n",
        "print(\"Davon sind \" + str(len(noneImages)) + \" Kacheln ohne Straßen\")\n",
        "print(\"\")\n",
        "\n",
        "dir_list = [TRAIN_NONE_DIR,TRAIN_STREET_DIR,VALID_NONE_DIR,VALID_STREET_DIR,TEST_NONE_DIR,TEST_STREET_DIR]\n",
        "for dir in dir_list:\n",
        "    file_count = sum([len(files) for root,dir,files in os.walk(dir)])\n",
        "    print('Kacheln in', dir,': ',file_count)\n",
        "\n",
        "imageList = list()\n",
        "for (root, name, files) in os.walk(dataset):\n",
        "    imageList += [os.path.join(root, file) for file in files]\n",
        "\n",
        "print(str(len(dataset)) + \" Kacheln sind übrig geblieben\")\n",
        "print(\"\")\n",
        "print(\"Batchsize: \" + str(BATCHSIZE))\n",
        "print(\"Learnrate: \" + str(LEARN_RATE))\n",
        "print(\"Learnrate decay: \" + str(DECAY_RATE))\n",
        "print(\"\")\n",
        "print(model.summary())\n",
        "print(\"Model Inputs: {ips}\".format(ips=(model.inputs)))\n",
        "print(\"Model Outputs: {ops}\".format(ops=(model.outputs)))\n",
        "print(\"\")\n",
        "print ('Evaluation Loss    : ', scores[0])\n",
        "print ('Evaluation Accuracy: ', scores[1])\n",
        "print(\"\")\n",
        "print('Correct Predictions: ',correct_predictions)\n",
        "print('Wrong Predictions  : ',wrong_predictions)\n",
        "print('Prediction Accuracy: ',acc,'%')\n",
        "print(\"\")\n"
      ]
    },
    {
      "cell_type": "code",
      "execution_count": null,
      "metadata": {
        "id": "9nt5rMSFN9o-"
      },
      "outputs": [],
      "source": [
        "### Entfällt zugunsten der neuen Plot Funktion\n",
        "##Gibt plot aus\n",
        "# list all data in history\n",
        "print(training_history.history.keys())\n",
        "# summarize history for accuracy\n",
        "plt.plot(training_history.history['binary_accuracy'])\n",
        "plt.plot(training_history.history['val_binary_accuracy'])\n",
        "plt.title('model accuracy')\n",
        "plt.ylabel('accuracy')\n",
        "plt.xlabel('epoch')\n",
        "plt.legend(['train', 'test'], loc='upper left')\n",
        "plt.show()\n",
        "# summarize history for loss\n",
        "plt.plot(training_history.history['loss'])\n",
        "plt.plot(training_history.history['val_loss'])\n",
        "plt.title('model loss')\n",
        "plt.ylabel('loss')\n",
        "plt.xlabel('epoch')\n",
        "plt.legend(['train', 'test'], loc='upper left')\n",
        "plt.show()"
      ]
    },
    {
      "cell_type": "code",
      "execution_count": null,
      "metadata": {
        "id": "FFFasliANf_D"
      },
      "outputs": [],
      "source": [
        "### Entfällt zugunsten der neuen Plot Funktion\n",
        "## Alle Ergebnisse in einem Plot\n",
        "'''import matplotlib.pyplot as plt\n",
        "plt.plot(training_history.history[\"binary_accuracy\"])\n",
        "plt.plot(training_history.history['val_binary_accuracy'])\n",
        "plt.plot(training_history.history['loss'])\n",
        "plt.plot(training_history.history['val_loss'])\n",
        "plt.title(\"model accuracy\")\n",
        "plt.ylabel(\"Accuracy\")\n",
        "plt.xlabel(\"Epoch\")\n",
        "plt.legend([\"Accuracy\",\"Validation Accuracy\",\"loss\",\"Validation Loss\"])\n",
        "plt.show()'''"
      ]
    },
    {
      "cell_type": "code",
      "execution_count": null,
      "metadata": {
        "id": "qMtelkmOWtp3"
      },
      "outputs": [],
      "source": [
        "def plot_compare(history, steps=-1):\n",
        "    if steps < 0:\n",
        "        steps = len(history.history['binary_accuracy'])\n",
        "    acc = history.history['binary_accuracy'][:steps]\n",
        "    val_acc = history.history['val_binary_accuracy'][:steps]\n",
        "    loss = history.history['loss'][:steps]\n",
        "    val_loss = history.history['val_loss'][:steps]\n",
        "\n",
        "    plt.figure(figsize=(6, 4))\n",
        "    plt.plot(loss, c='#0c7cba', label='Train Loss')\n",
        "    plt.plot(val_loss, c='#0f9d58', label='Val Loss')\n",
        "    plt.xticks(range(0, len(loss), 5))\n",
        "    plt.xlim(0, len(loss))\n",
        "    plt.title('Train Loss: %.3f, Val Loss: %.3f' % (loss[-1], val_loss[-1]), fontsize=12)\n",
        "    plt.legend()\n",
        "\n",
        "    plt.figure(figsize=(6, 4))\n",
        "    plt.plot(acc, c='#0c7cba', label='Train Acc')\n",
        "    plt.plot(val_acc, c='#0f9d58', label='Val Acc')\n",
        "    plt.xticks(range(0, len(acc), 5))\n",
        "    plt.xlim(0, len(acc))\n",
        "    plt.title('Train Accuracy: %.3f, Val Accuracy: %.3f' % (acc[-1], val_acc[-1]), fontsize=12)\n",
        "    plt.legend()"
      ]
    },
    {
      "cell_type": "code",
      "execution_count": null,
      "metadata": {
        "id": "GltYF_vQU0NB"
      },
      "outputs": [],
      "source": [
        "plot_compare(training_history)"
      ]
    },
    {
      "cell_type": "markdown",
      "metadata": {
        "id": "8TUlnL6sJUvt"
      },
      "source": [
        "\n",
        "\n",
        "The trained model is saved in the directory pointed to by the variable KERAS_MODEL_DIR. The model weights and biases are stored in an HDF5 format file called 'k_model_weights.h5'. The architecture (without weights) is stored in a JSON file called 'k_model_architecture.json'.\n"
      ]
    },
    {
      "cell_type": "code",
      "execution_count": null,
      "metadata": {
        "id": "yjgi3npWLjiN"
      },
      "outputs": [],
      "source": [
        "'''#!kill 695\n",
        "%reload_ext tensorboard\n",
        "\n",
        "%tensorboard --logdir  '/content/drive/MyDrive/Colab Notebooks/results/tb_logs/train'\n",
        "\n",
        "#%tensorboard --logdir /content/drive/MyDrive/Colab_Notebooks/cat_dog_example/tb_logs/validation'''"
      ]
    }
  ],
  "metadata": {
    "colab": {
      "authorship_tag": "ABX9TyOz/7X5e3tEjyhq01h1kOZP",
      "include_colab_link": true,
      "mount_file_id": "1t5nw2X8hn6tLwsCVi58pjW2TwznfbWXj",
      "provenance": []
    },
    "kernelspec": {
      "display_name": "Python 3",
      "name": "python3"
    }
  },
  "nbformat": 4,
  "nbformat_minor": 0
}
